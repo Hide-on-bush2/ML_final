{
 "cells": [
  {
   "cell_type": "markdown",
   "metadata": {},
   "source": [
    "# 机器学习期末大作业-Titanic项目实战"
   ]
  },
  {
   "cell_type": "markdown",
   "metadata": {},
   "source": [
    "## 成员信息"
   ]
  },
  {
   "cell_type": "markdown",
   "metadata": {},
   "source": [
    "* 车春江18308008 （组长）\n",
    "* 陈国帆18342008 （组员）\n",
    "* 刘倍延18342057 （组员）"
   ]
  },
  {
   "cell_type": "markdown",
   "metadata": {},
   "source": [
    "## 选题背景"
   ]
  },
  {
   "cell_type": "markdown",
   "metadata": {},
   "source": [
    "[Titanic生存概率预测](https://www.kaggle.com/c/titanic)是Kaggle平台上的经典竞赛项目，泰坦尼克号成员存活的数据集非常适合新手开始作为机器学习项目和Kaggle竞赛的练手。我们将在该项目中探索具备何种特征的人在此次海滩中幸存的几率更高，并通过改建机器学习模型和深度学习模型来预测乘客的生存率。Titanic项目的描述如下所示："
   ]
  },
  {
   "cell_type": "markdown",
   "metadata": {},
   "source": [
    ">泰坦尼克号的沉没是历史上最声明远扬的航海事件\n",
    ">1912年4月15日，在她的处女航中，被广泛认为的“沉没” RMS泰坦尼克号与冰山相撞后沉没。 不幸的是，船上没有足够的救生艇供所有人使用，导致2224名乘客和机组人员中的1502人死亡\n",
    ">虽然幸存有一些运气，但似乎有些人比其他人更有可能生存\n",
    ">在这一挑战中，我们要求您建立一个预测模型来回答以下问题：“什么样的人更有可能生存？” 您可以使用乘客数据（即姓名，年龄，性别，社会经济舱等）来进行预测\n"
   ]
  },
  {
   "cell_type": "markdown",
   "metadata": {},
   "source": [
    "## 开发环境"
   ]
  },
  {
   "cell_type": "markdown",
   "metadata": {},
   "source": [
    "* 操作系统：Macos\n",
    "* Python版本：3.7.4\n",
    "* Anaconda版本：4.9.2\n",
    "* tensorflow版本：2.1.0\n",
    "* keras版本：1.1.0"
   ]
  },
  {
   "cell_type": "markdown",
   "metadata": {},
   "source": [
    "## 1 数据源集数据处理"
   ]
  },
  {
   "cell_type": "markdown",
   "metadata": {},
   "source": [
    "### 1.1 数据源"
   ]
  },
  {
   "cell_type": "markdown",
   "metadata": {},
   "source": [
    "数据集来自Kaggle网站提供的[数据集](https://www.kaggle.com/c/titanic/data?select=test.csv)，Kaggle提供的乘员数据分为两个部分：\n",
    "* 训练集(train.csv)\n",
    "* 测试集(test.csv)"
   ]
  },
  {
   "cell_type": "markdown",
   "metadata": {},
   "source": [
    "训练集将用于构建我们的机器学习/深度学习模型。并且在训练集中对于每位乘客我们会有表示该乘客是否存活的label，也就是`survival`字段。在训练集中会给出每一位乘客的特征，我们需要从这些乘客的特征当中学得一些知识，或者可以使用特征工程来创建新的特征来帮助模型的构建"
   ]
  },
  {
   "cell_type": "markdown",
   "metadata": {},
   "source": [
    "测试集数据将用来评判我们模型的表现。因此对于测试集中的每一位乘客没有代表该乘客是否存活的label，我们的模型需要根据每一位乘客的特征值来输出相应的label，真实的label将由kaggle网站保留"
   ]
  },
  {
   "cell_type": "markdown",
   "metadata": {},
   "source": [
    "Kaggle平台还提供了一个`gender_submission.csv`样例文件，我们提交的结果需要与该文件具有相同的形式"
   ]
  },
  {
   "cell_type": "markdown",
   "metadata": {},
   "source": [
    "### 1.2 数据处理"
   ]
  },
  {
   "cell_type": "markdown",
   "metadata": {},
   "source": [
    "#### 1.2.1 数据初览"
   ]
  },
  {
   "cell_type": "markdown",
   "metadata": {},
   "source": [
    "在对数据进行处理之前，我们需要先对数据的一些基本信息进行了解"
   ]
  },
  {
   "cell_type": "markdown",
   "metadata": {},
   "source": [
    "首先将数据从csv文件中独取出来："
   ]
  },
  {
   "cell_type": "code",
   "execution_count": 87,
   "metadata": {},
   "outputs": [],
   "source": [
    "import numpy as np\n",
    "import pandas as pd\n",
    "\n",
    "train_set = pd.read_csv('./data/titanic/train.csv')\n",
    "test_set = pd.read_csv(\"./data/titanic/test.csv\")"
   ]
  },
  {
   "cell_type": "markdown",
   "metadata": {},
   "source": [
    "查看数据集的大小："
   ]
  },
  {
   "cell_type": "code",
   "execution_count": 88,
   "metadata": {},
   "outputs": [
    {
     "name": "stdout",
     "output_type": "stream",
     "text": [
      "训练集大小: (891, 12)\n",
      "测试集大小: (418, 11)\n"
     ]
    }
   ],
   "source": [
    "print(\"训练集大小:\", train_set.shape)\n",
    "print(\"测试集大小:\", test_set.shape)"
   ]
  },
  {
   "cell_type": "markdown",
   "metadata": {},
   "source": [
    "然后查看数据的特征值："
   ]
  },
  {
   "cell_type": "code",
   "execution_count": 89,
   "metadata": {},
   "outputs": [
    {
     "name": "stdout",
     "output_type": "stream",
     "text": [
      "训练集数据的特征值和label\n",
      "   PassengerId  Survived  Pclass  \\\n",
      "0            1         0       3   \n",
      "1            2         1       1   \n",
      "2            3         1       3   \n",
      "3            4         1       1   \n",
      "4            5         0       3   \n",
      "\n",
      "                                                Name     Sex   Age  SibSp  \\\n",
      "0                            Braund, Mr. Owen Harris    male  22.0      1   \n",
      "1  Cumings, Mrs. John Bradley (Florence Briggs Th...  female  38.0      1   \n",
      "2                             Heikkinen, Miss. Laina  female  26.0      0   \n",
      "3       Futrelle, Mrs. Jacques Heath (Lily May Peel)  female  35.0      1   \n",
      "4                           Allen, Mr. William Henry    male  35.0      0   \n",
      "\n",
      "   Parch            Ticket     Fare Cabin Embarked  \n",
      "0      0         A/5 21171   7.2500   NaN        S  \n",
      "1      0          PC 17599  71.2833   C85        C  \n",
      "2      0  STON/O2. 3101282   7.9250   NaN        S  \n",
      "3      0            113803  53.1000  C123        S  \n",
      "4      0            373450   8.0500   NaN        S  \n",
      "测试集数据的特征值\n",
      "   PassengerId  Pclass                                          Name     Sex  \\\n",
      "0          892       3                              Kelly, Mr. James    male   \n",
      "1          893       3              Wilkes, Mrs. James (Ellen Needs)  female   \n",
      "2          894       2                     Myles, Mr. Thomas Francis    male   \n",
      "3          895       3                              Wirz, Mr. Albert    male   \n",
      "4          896       3  Hirvonen, Mrs. Alexander (Helga E Lindqvist)  female   \n",
      "\n",
      "    Age  SibSp  Parch   Ticket     Fare Cabin Embarked  \n",
      "0  34.5      0      0   330911   7.8292   NaN        Q  \n",
      "1  47.0      1      0   363272   7.0000   NaN        S  \n",
      "2  62.0      0      0   240276   9.6875   NaN        Q  \n",
      "3  27.0      0      0   315154   8.6625   NaN        S  \n",
      "4  22.0      1      1  3101298  12.2875   NaN        S  \n"
     ]
    }
   ],
   "source": [
    "print(\"训练集数据的特征值和label\")\n",
    "print(train_set.head())\n",
    "print(\"测试集数据的特征值\")\n",
    "print(test_set.head())"
   ]
  },
  {
   "cell_type": "markdown",
   "metadata": {},
   "source": [
    "不难看出测试集的特征值比起训练值的特征值只缺了一个`survived`特征，其他的特征的含义分别是："
   ]
  },
  {
   "cell_type": "markdown",
   "metadata": {},
   "source": [
    "* Survived：0表示未存活，1表示存活\n",
    "* PassengerId：乘客的编号，在数据库中一般是自增的形式，我们一半不会用该特征进行训练\n",
    "* Pclass：船票的仓位等级，分为1，2，3三个等级\n",
    "* Name：乘客名字，可以获取乘客的婚姻、职业等状况\n",
    "* Sex：性别\n",
    "* Age：年龄\n",
    "* SibSp：在船上的同辈亲属的数量：包括丈夫、妻子、兄弟姐妹\n",
    "* Parch：在船上的不同辈亲属的数量：包括父母，子女\n",
    "* Ticket：船票的编号\n",
    "* Cabin：船舱编号\n",
    "* Embarked：登船的港口"
   ]
  },
  {
   "cell_type": "markdown",
   "metadata": {},
   "source": [
    "将实验数据和预测数据进行合并，然后查看训练集和测试集数据的分布情况："
   ]
  },
  {
   "cell_type": "code",
   "execution_count": 90,
   "metadata": {},
   "outputs": [
    {
     "data": {
      "text/html": [
       "<div>\n",
       "<style scoped>\n",
       "    .dataframe tbody tr th:only-of-type {\n",
       "        vertical-align: middle;\n",
       "    }\n",
       "\n",
       "    .dataframe tbody tr th {\n",
       "        vertical-align: top;\n",
       "    }\n",
       "\n",
       "    .dataframe thead th {\n",
       "        text-align: right;\n",
       "    }\n",
       "</style>\n",
       "<table border=\"1\" class=\"dataframe\">\n",
       "  <thead>\n",
       "    <tr style=\"text-align: right;\">\n",
       "      <th></th>\n",
       "      <th>PassengerId</th>\n",
       "      <th>Survived</th>\n",
       "      <th>Pclass</th>\n",
       "      <th>Age</th>\n",
       "      <th>SibSp</th>\n",
       "      <th>Parch</th>\n",
       "      <th>Fare</th>\n",
       "    </tr>\n",
       "  </thead>\n",
       "  <tbody>\n",
       "    <tr>\n",
       "      <th>count</th>\n",
       "      <td>1309.000000</td>\n",
       "      <td>891.000000</td>\n",
       "      <td>1309.000000</td>\n",
       "      <td>1046.000000</td>\n",
       "      <td>1309.000000</td>\n",
       "      <td>1309.000000</td>\n",
       "      <td>1308.000000</td>\n",
       "    </tr>\n",
       "    <tr>\n",
       "      <th>mean</th>\n",
       "      <td>655.000000</td>\n",
       "      <td>0.383838</td>\n",
       "      <td>2.294882</td>\n",
       "      <td>29.881138</td>\n",
       "      <td>0.498854</td>\n",
       "      <td>0.385027</td>\n",
       "      <td>33.295479</td>\n",
       "    </tr>\n",
       "    <tr>\n",
       "      <th>std</th>\n",
       "      <td>378.020061</td>\n",
       "      <td>0.486592</td>\n",
       "      <td>0.837836</td>\n",
       "      <td>14.413493</td>\n",
       "      <td>1.041658</td>\n",
       "      <td>0.865560</td>\n",
       "      <td>51.758668</td>\n",
       "    </tr>\n",
       "    <tr>\n",
       "      <th>min</th>\n",
       "      <td>1.000000</td>\n",
       "      <td>0.000000</td>\n",
       "      <td>1.000000</td>\n",
       "      <td>0.170000</td>\n",
       "      <td>0.000000</td>\n",
       "      <td>0.000000</td>\n",
       "      <td>0.000000</td>\n",
       "    </tr>\n",
       "    <tr>\n",
       "      <th>25%</th>\n",
       "      <td>328.000000</td>\n",
       "      <td>0.000000</td>\n",
       "      <td>2.000000</td>\n",
       "      <td>21.000000</td>\n",
       "      <td>0.000000</td>\n",
       "      <td>0.000000</td>\n",
       "      <td>7.895800</td>\n",
       "    </tr>\n",
       "    <tr>\n",
       "      <th>50%</th>\n",
       "      <td>655.000000</td>\n",
       "      <td>0.000000</td>\n",
       "      <td>3.000000</td>\n",
       "      <td>28.000000</td>\n",
       "      <td>0.000000</td>\n",
       "      <td>0.000000</td>\n",
       "      <td>14.454200</td>\n",
       "    </tr>\n",
       "    <tr>\n",
       "      <th>75%</th>\n",
       "      <td>982.000000</td>\n",
       "      <td>1.000000</td>\n",
       "      <td>3.000000</td>\n",
       "      <td>39.000000</td>\n",
       "      <td>1.000000</td>\n",
       "      <td>0.000000</td>\n",
       "      <td>31.275000</td>\n",
       "    </tr>\n",
       "    <tr>\n",
       "      <th>max</th>\n",
       "      <td>1309.000000</td>\n",
       "      <td>1.000000</td>\n",
       "      <td>3.000000</td>\n",
       "      <td>80.000000</td>\n",
       "      <td>8.000000</td>\n",
       "      <td>9.000000</td>\n",
       "      <td>512.329200</td>\n",
       "    </tr>\n",
       "  </tbody>\n",
       "</table>\n",
       "</div>"
      ],
      "text/plain": [
       "       PassengerId    Survived       Pclass          Age        SibSp  \\\n",
       "count  1309.000000  891.000000  1309.000000  1046.000000  1309.000000   \n",
       "mean    655.000000    0.383838     2.294882    29.881138     0.498854   \n",
       "std     378.020061    0.486592     0.837836    14.413493     1.041658   \n",
       "min       1.000000    0.000000     1.000000     0.170000     0.000000   \n",
       "25%     328.000000    0.000000     2.000000    21.000000     0.000000   \n",
       "50%     655.000000    0.000000     3.000000    28.000000     0.000000   \n",
       "75%     982.000000    1.000000     3.000000    39.000000     1.000000   \n",
       "max    1309.000000    1.000000     3.000000    80.000000     8.000000   \n",
       "\n",
       "             Parch         Fare  \n",
       "count  1309.000000  1308.000000  \n",
       "mean      0.385027    33.295479  \n",
       "std       0.865560    51.758668  \n",
       "min       0.000000     0.000000  \n",
       "25%       0.000000     7.895800  \n",
       "50%       0.000000    14.454200  \n",
       "75%       0.000000    31.275000  \n",
       "max       9.000000   512.329200  "
      ]
     },
     "execution_count": 90,
     "metadata": {},
     "output_type": "execute_result"
    }
   ],
   "source": [
    "full_set=train_set.append(test_set,ignore_index=True)\n",
    "full_set.describe()"
   ]
  },
  {
   "cell_type": "markdown",
   "metadata": {},
   "source": [
    "查看数据集的non-null数据数量："
   ]
  },
  {
   "cell_type": "code",
   "execution_count": 91,
   "metadata": {},
   "outputs": [
    {
     "name": "stdout",
     "output_type": "stream",
     "text": [
      "<class 'pandas.core.frame.DataFrame'>\n",
      "RangeIndex: 1309 entries, 0 to 1308\n",
      "Data columns (total 12 columns):\n",
      " #   Column       Non-Null Count  Dtype  \n",
      "---  ------       --------------  -----  \n",
      " 0   PassengerId  1309 non-null   int64  \n",
      " 1   Survived     891 non-null    float64\n",
      " 2   Pclass       1309 non-null   int64  \n",
      " 3   Name         1309 non-null   object \n",
      " 4   Sex          1309 non-null   object \n",
      " 5   Age          1046 non-null   float64\n",
      " 6   SibSp        1309 non-null   int64  \n",
      " 7   Parch        1309 non-null   int64  \n",
      " 8   Ticket       1309 non-null   object \n",
      " 9   Fare         1308 non-null   float64\n",
      " 10  Cabin        295 non-null    object \n",
      " 11  Embarked     1307 non-null   object \n",
      "dtypes: float64(3), int64(4), object(5)\n",
      "memory usage: 122.8+ KB\n"
     ]
    }
   ],
   "source": [
    "full_set.info()"
   ]
  },
  {
   "cell_type": "markdown",
   "metadata": {},
   "source": [
    "根据上表可以看到，Age,Cabin,Embarked和Fare四项数据有缺失值，并且Cabin字段缺失了接近$\\frac{3}{4}$的数据"
   ]
  },
  {
   "cell_type": "markdown",
   "metadata": {},
   "source": [
    "因为数据集中缺失了大量的数据，因此我们需要对这些字段缺失的数据进行填充，该工作将在稍后进行"
   ]
  },
  {
   "cell_type": "markdown",
   "metadata": {},
   "source": [
    "#### 探索特征之间的关系"
   ]
  },
  {
   "cell_type": "markdown",
   "metadata": {},
   "source": [
    "我们可以通过绘制图标来探索特征值之间的关系"
   ]
  },
  {
   "cell_type": "code",
   "execution_count": 92,
   "metadata": {},
   "outputs": [
    {
     "data": {
      "text/plain": [
       "<matplotlib.axes._subplots.AxesSubplot at 0x7fd8b83204d0>"
      ]
     },
     "execution_count": 92,
     "metadata": {},
     "output_type": "execute_result"
    },
    {
     "data": {
      "image/png": "[encoded data removed]",
      "text/plain": [
       "<Figure size 432x288 with 1 Axes>"
      ]
     },
     "metadata": {
      "needs_background": "light"
     },
     "output_type": "display_data"
    }
   ],
   "source": [
    "# Embarked与Survived\n",
    "import seaborn as sns\n",
    "\n",
    "%matplotlib inline\n",
    "sns.barplot(data=train_set,x=\"Embarked\",y=\"Survived\")"
   ]
  },
  {
   "cell_type": "markdown",
   "metadata": {},
   "source": [
    "从上图可以看出，在法国瑟堡登船的乘客生存率较高"
   ]
  },
  {
   "cell_type": "markdown",
   "metadata": {},
   "source": [
    "然后计算不同类型的Embarked的乘客的生存率为多少："
   ]
  },
  {
   "cell_type": "code",
   "execution_count": 93,
   "metadata": {},
   "outputs": [
    {
     "name": "stdout",
     "output_type": "stream",
     "text": [
      "Embarked of S(Southampton): 0.33695652173913043\n",
      "Embarked of C(Cherbourg): 0.5535714285714286\n",
      "Embarked of Q(Southampton): 0.38961038961038963\n"
     ]
    }
   ],
   "source": [
    "print('Embarked of S(Southampton):', train_set['Survived'][train_set['Embarked']=='S'].value_counts(normalize=True)[1])\n",
    "print('Embarked of C(Cherbourg):', train_set['Survived'][train_set['Embarked']=='C'].value_counts(normalize=True)[1])\n",
    "print('Embarked of Q(Southampton):', train_set['Survived'][train_set['Embarked']=='Q'].value_counts(normalize=True)[1])"
   ]
  },
  {
   "cell_type": "markdown",
   "metadata": {},
   "source": [
    "我们很容易可以想到，在法国登船的乘客生存率较高可能与其头等舱乘客比例较高有关，因此我们需要探索不同登船地点的乘客对于舱位分布的情况："
   ]
  },
  {
   "cell_type": "code",
   "execution_count": 94,
   "metadata": {},
   "outputs": [
    {
     "data": {
      "text/plain": [
       "<seaborn.axisgrid.FacetGrid at 0x7fd8b72bc450>"
      ]
     },
     "execution_count": 94,
     "metadata": {},
     "output_type": "execute_result"
    },
    {
     "data": {
      "image/png": "[encoded data removed]",
      "text/plain": [
       "<Figure size 648x216 with 3 Axes>"
      ]
     },
     "metadata": {
      "needs_background": "light"
     },
     "output_type": "display_data"
    }
   ],
   "source": [
    "#导入warnings包去除一些没必要的warnings\n",
    "import warnings \n",
    "warnings.filterwarnings('ignore')\n",
    "\n",
    "sns.factorplot('Pclass',col='Embarked',data=train_set,kind='count',size=3)"
   ]
  },
  {
   "cell_type": "markdown",
   "metadata": {},
   "source": [
    "从上图我们可以验证我们的猜想，在法国登船的乘客的头等舱乘客所占比例更高"
   ]
  },
  {
   "cell_type": "code",
   "execution_count": 95,
   "metadata": {},
   "outputs": [
    {
     "data": {
      "text/plain": [
       "<matplotlib.axes._subplots.AxesSubplot at 0x7fd8b70d5d50>"
      ]
     },
     "execution_count": 95,
     "metadata": {},
     "output_type": "execute_result"
    },
    {
     "data": {
      "image/png": "[encoded data removed]",
      "text/plain": [
       "<Figure size 432x288 with 1 Axes>"
      ]
     },
     "metadata": {
      "needs_background": "light"
     },
     "output_type": "display_data"
    }
   ],
   "source": [
    "#Parch与Survived\n",
    "sns.barplot(data=train_set,x=\"Parch\",y='Survived')"
   ]
  },
  {
   "cell_type": "markdown",
   "metadata": {},
   "source": [
    "在上图可以看出，当与乘客通行的父母和子女数量适中的时候（Parch=3时），生存率较高"
   ]
  },
  {
   "cell_type": "code",
   "execution_count": 96,
   "metadata": {},
   "outputs": [
    {
     "data": {
      "text/plain": [
       "<matplotlib.axes._subplots.AxesSubplot at 0x7fd8b7066090>"
      ]
     },
     "execution_count": 96,
     "metadata": {},
     "output_type": "execute_result"
    },
    {
     "data": {
      "image/png": "[encoded data removed]",
      "text/plain": [
       "<Figure size 432x288 with 1 Axes>"
      ]
     },
     "metadata": {
      "needs_background": "light"
     },
     "output_type": "display_data"
    }
   ],
   "source": [
    "# SibSp与Survived\n",
    "sns.barplot(data=train_set,x=\"SibSp\",y=\"Survived\")"
   ]
  },
  {
   "cell_type": "markdown",
   "metadata": {},
   "source": [
    "从上图可以看出，当与乘客通行的同辈亲属数量为1的时候生存率最高"
   ]
  },
  {
   "cell_type": "code",
   "execution_count": 97,
   "metadata": {},
   "outputs": [
    {
     "data": {
      "text/plain": [
       "<matplotlib.axes._subplots.AxesSubplot at 0x7fd8b6ff0310>"
      ]
     },
     "execution_count": 97,
     "metadata": {},
     "output_type": "execute_result"
    },
    {
     "data": {
      "image/png": "[encoded data removed]",
      "text/plain": [
       "<Figure size 432x288 with 1 Axes>"
      ]
     },
     "metadata": {
      "needs_background": "light"
     },
     "output_type": "display_data"
    }
   ],
   "source": [
    "#Pclass与Survived\n",
    "sns.barplot(data=train_set,x=\"Pclass\",y=\"Survived\")"
   ]
  },
  {
   "cell_type": "markdown",
   "metadata": {},
   "source": [
    "从上图可以看出，乘客的客舱等级越高，生存率越高，这个也符合我们的直观猜想，等级越高的客舱配置的急救措施也会越好"
   ]
  },
  {
   "cell_type": "code",
   "execution_count": 98,
   "metadata": {},
   "outputs": [
    {
     "data": {
      "text/plain": [
       "<matplotlib.axes._subplots.AxesSubplot at 0x7fd8b6f5c3d0>"
      ]
     },
     "execution_count": 98,
     "metadata": {},
     "output_type": "execute_result"
    },
    {
     "data": {
      "image/png": "[encoded data removed]",
      "text/plain": [
       "<Figure size 432x288 with 1 Axes>"
      ]
     },
     "metadata": {
      "needs_background": "light"
     },
     "output_type": "display_data"
    }
   ],
   "source": [
    "#Sex和Survived\n",
    "sns.barplot(data=train_set,x=\"Sex\",y=\"Survived\")"
   ]
  },
  {
   "cell_type": "markdown",
   "metadata": {},
   "source": [
    "从上图我们可以看出女性的生存率远高于男性"
   ]
  },
  {
   "cell_type": "code",
   "execution_count": 99,
   "metadata": {},
   "outputs": [
    {
     "data": {
      "text/plain": [
       "<seaborn.axisgrid.FacetGrid at 0x7fd8b6f49790>"
      ]
     },
     "execution_count": 99,
     "metadata": {},
     "output_type": "execute_result"
    },
    {
     "data": {
      "image/png": "[encoded data removed]",
      "text/plain": [
       "<Figure size 699.875x216 with 1 Axes>"
      ]
     },
     "metadata": {
      "needs_background": "light"
     },
     "output_type": "display_data"
    }
   ],
   "source": [
    "#Age与Survived\n",
    "age_facet = sns.FacetGrid(train_set,hue='Survived',aspect=3)\n",
    "age_facet.map(sns.kdeplot,'Age',shade=True)\n",
    "age_facet.set(xlim=(0,train_set['Age'].max()))\n",
    "age_facet.add_legend()"
   ]
  },
  {
   "cell_type": "markdown",
   "metadata": {},
   "source": [
    "从上图可以看出，年龄低于10岁的乘客生存率更高"
   ]
  },
  {
   "cell_type": "code",
   "execution_count": 100,
   "metadata": {},
   "outputs": [
    {
     "data": {
      "text/plain": [
       "<seaborn.axisgrid.FacetGrid at 0x7fd8b6e5bfd0>"
      ]
     },
     "execution_count": 100,
     "metadata": {},
     "output_type": "execute_result"
    },
    {
     "data": {
      "image/png": "[encoded data removed]",
      "text/plain": [
       "<Figure size 699.875x216 with 1 Axes>"
      ]
     },
     "metadata": {
      "needs_background": "light"
     },
     "output_type": "display_data"
    }
   ],
   "source": [
    "#Fare和Survived\n",
    "fare_facet=sns.FacetGrid(train_set,hue=\"Survived\",aspect=3)\n",
    "fare_facet.map(sns.kdeplot,'Fare',shade=True)\n",
    "fare_facet.set(xlim=(0,150))\n",
    "fare_facet.add_legend()"
   ]
  },
  {
   "cell_type": "markdown",
   "metadata": {},
   "source": [
    "从上图可以看出，当票价低于15左右时，乘客的生存率最高，并且票价越高乘客的生存率越低"
   ]
  },
  {
   "cell_type": "markdown",
   "metadata": {},
   "source": [
    "然后我们查看票价的分布特征"
   ]
  },
  {
   "cell_type": "code",
   "execution_count": 101,
   "metadata": {},
   "outputs": [
    {
     "data": {
      "text/plain": [
       "<matplotlib.legend.Legend at 0x7fd8b6e5b0d0>"
      ]
     },
     "execution_count": 101,
     "metadata": {},
     "output_type": "execute_result"
    },
    {
     "data": {
      "image/png": "[encoded data removed]",
      "text/plain": [
       "<Figure size 432x288 with 1 Axes>"
      ]
     },
     "metadata": {
      "needs_background": "light"
     },
     "output_type": "display_data"
    }
   ],
   "source": [
    "fare_plot = sns.distplot(full_set['Fare'][full_set['Fare'].notnull()],label='skewness:%.2f'%(full_set['Fare'].skew()))\n",
    "fare_plot.legend(loc='best')"
   ]
  },
  {
   "cell_type": "markdown",
   "metadata": {},
   "source": [
    "从上图可以看出，fare的分布呈现左偏的状态，并且偏度skewness为4.37较大，说明数据偏移平均值越多，为了防止某些数据对于模型映像过大，我们需要用log函数对这些数据进行对数化处理"
   ]
  },
  {
   "cell_type": "code",
   "execution_count": 102,
   "metadata": {},
   "outputs": [],
   "source": [
    "full_set['Fare']=full_set['Fare'].map(lambda x: np.log(x) if x>0 else 0)"
   ]
  },
  {
   "cell_type": "markdown",
   "metadata": {},
   "source": [
    "#### 1.2.2 数据预处理"
   ]
  },
  {
   "cell_type": "markdown",
   "metadata": {},
   "source": [
    "上面我们拿到的往往是原始数据，我们需要将这些原始数据转化为我们需要的质量更高的数据，因此我们需要进行数据的预处理，数据预处理大概分为以下四个部分："
   ]
  },
  {
   "cell_type": "markdown",
   "metadata": {},
   "source": [
    "* 数据清洗（缺失值以及异常值的处理）\n",
    "* 特征工程（基于对现有数据特征的理解构造的新特征，以挖掘数据的更多特点）\n",
    "* 同组识别（找出具有明显同组效应且违背整体规律的数据，对其数据进行修正）\n",
    "* 筛选子集（对数据进行降维，选择子集）"
   ]
  },
  {
   "cell_type": "markdown",
   "metadata": {},
   "source": [
    "#### 1.2.2.1 数据清洗"
   ]
  },
  {
   "cell_type": "markdown",
   "metadata": {},
   "source": [
    "在之前的分析中，我们知道数据集中的四个字段`Cabin/Embarked/Fare/Age`存在缺失情况，因此我们对这些字段进行填充"
   ]
  },
  {
   "cell_type": "markdown",
   "metadata": {},
   "source": [
    "对于Cabin字段，我们直接用U(Unknown)来填充缺失值："
   ]
  },
  {
   "cell_type": "code",
   "execution_count": 103,
   "metadata": {},
   "outputs": [
    {
     "data": {
      "text/plain": [
       "0       U\n",
       "1     C85\n",
       "2       U\n",
       "3    C123\n",
       "4       U\n",
       "Name: Cabin, dtype: object"
      ]
     },
     "execution_count": 103,
     "metadata": {},
     "output_type": "execute_result"
    }
   ],
   "source": [
    "full_set['Cabin'] = full_set['Cabin'].fillna('U')\n",
    "full_set['Cabin'].head()"
   ]
  },
  {
   "cell_type": "markdown",
   "metadata": {},
   "source": [
    "对于Embarked字段，我们用众数来填充"
   ]
  },
  {
   "cell_type": "code",
   "execution_count": 104,
   "metadata": {},
   "outputs": [
    {
     "name": "stdout",
     "output_type": "stream",
     "text": [
      "S    914\n",
      "C    270\n",
      "Q    123\n",
      "Name: Embarked, dtype: int64\n"
     ]
    }
   ],
   "source": [
    "# 查看Embarked数据分布情况可以知道乘客在英国登船的可能性最大\n",
    "print(full_set['Embarked'].value_counts())\n",
    "# 用S（英国）来填充缺失值\n",
    "full_set['Embarked'] = full_set['Embarked'].fillna('S')"
   ]
  },
  {
   "cell_type": "markdown",
   "metadata": {},
   "source": [
    "对于Fare字段，使用3等舱，登船港口为英国，舱位未知的数据来填充"
   ]
  },
  {
   "cell_type": "code",
   "execution_count": 105,
   "metadata": {},
   "outputs": [],
   "source": [
    "full_set['Fare']=full_set['Fare'].fillna(full_set[(full_set['Pclass']==3)&(full_set['Embarked']=='S')&(full_set['Cabin']=='U')]['Fare'].mean())"
   ]
  },
  {
   "cell_type": "markdown",
   "metadata": {},
   "source": [
    "此外因为Age字段缺失较多，并且为连续性数值，因此我们将使用特征工程来完成对其缺失值的填充"
   ]
  },
  {
   "cell_type": "markdown",
   "metadata": {},
   "source": [
    "#### 1.2.2.2 特征工程"
   ]
  },
  {
   "cell_type": "markdown",
   "metadata": {},
   "source": [
    "特征工程是为了在理解愿数据特征的基础上，通过对原有数据进行整合处理，得到新特征以反映数据更多的信息"
   ]
  },
  {
   "cell_type": "code",
   "execution_count": 106,
   "metadata": {},
   "outputs": [
    {
     "data": {
      "text/plain": [
       "Mr              757\n",
       "Miss            260\n",
       "Mrs             197\n",
       "Master           61\n",
       "Rev               8\n",
       "Dr                8\n",
       "Col               4\n",
       "Major             2\n",
       "Ms                2\n",
       "Mlle              2\n",
       "Jonkheer          1\n",
       "Lady              1\n",
       "Dona              1\n",
       "Sir               1\n",
       "Don               1\n",
       "Capt              1\n",
       "the Countess      1\n",
       "Mme               1\n",
       "Name: Title, dtype: int64"
      ]
     },
     "execution_count": 106,
     "metadata": {},
     "output_type": "execute_result"
    }
   ],
   "source": [
    "# 构造新特征Title\n",
    "# 旅客姓名数据中包含头衔信息，不同头衔也可以反映旅客的身份，\n",
    "# 而不同身份的旅客其生存率有可能会出现较大差异。\n",
    "# 因此我们通过Name特征提取旅客头衔Title信息，并分析Title与Survived之间的关系\n",
    "\n",
    "# 构造新特征Title\n",
    "full_set['Title']=full_set['Name'].map(lambda x:x.split(',')[1].split('.')[0].strip())\n",
    "# 查看title的数据分布\n",
    "full_set['Title'].value_counts()"
   ]
  },
  {
   "cell_type": "code",
   "execution_count": 107,
   "metadata": {},
   "outputs": [
    {
     "data": {
      "text/plain": [
       "Mr         757\n",
       "Miss       262\n",
       "Mrs        200\n",
       "Master      62\n",
       "Officer     23\n",
       "Royalty      5\n",
       "Name: Title, dtype: int64"
      ]
     },
     "execution_count": 107,
     "metadata": {},
     "output_type": "execute_result"
    }
   ],
   "source": [
    "# 将相近的Title信息整合在一起\n",
    "\n",
    "TitleDict={}\n",
    "TitleDict['Mr']='Mr'\n",
    "TitleDict['Mlle']='Miss'\n",
    "TitleDict['Miss']='Miss'\n",
    "TitleDict['Master']='Master'\n",
    "TitleDict['Jonkheer']='Master'\n",
    "TitleDict['Mme']='Mrs'\n",
    "TitleDict['Ms']='Mrs'\n",
    "TitleDict['Mrs']='Mrs'\n",
    "TitleDict['Don']='Royalty'\n",
    "TitleDict['Sir']='Royalty'\n",
    "TitleDict['the Countess']='Royalty'\n",
    "TitleDict['Dona']='Royalty'\n",
    "TitleDict['Lady']='Royalty'\n",
    "TitleDict['Capt']='Officer'\n",
    "TitleDict['Col']='Officer'\n",
    "TitleDict['Major']='Officer'\n",
    "TitleDict['Dr']='Officer'\n",
    "TitleDict['Rev']='Officer'\n",
    "\n",
    "full_set['Title']=full_set['Title'].map(TitleDict)\n",
    "full_set['Title'].value_counts()"
   ]
  },
  {
   "cell_type": "code",
   "execution_count": 108,
   "metadata": {},
   "outputs": [
    {
     "data": {
      "text/plain": [
       "<matplotlib.axes._subplots.AxesSubplot at 0x7fd8b64c1ed0>"
      ]
     },
     "execution_count": 108,
     "metadata": {},
     "output_type": "execute_result"
    },
    {
     "data": {
      "image/png": "[encoded data removed]",
      "text/plain": [
       "<Figure size 432x288 with 1 Axes>"
      ]
     },
     "metadata": {
      "needs_background": "light"
     },
     "output_type": "display_data"
    }
   ],
   "source": [
    "# 可视化观察新特征与标签之间的关系\n",
    "sns.barplot(data=full_set,x='Title',y='Survived')"
   ]
  },
  {
   "cell_type": "markdown",
   "metadata": {},
   "source": [
    "从上图可以看出头衔为`Mr`和`Officer`的乘客生存率较低"
   ]
  },
  {
   "cell_type": "code",
   "execution_count": 109,
   "metadata": {},
   "outputs": [
    {
     "data": {
      "text/plain": [
       "<matplotlib.axes._subplots.AxesSubplot at 0x7fd8b6482210>"
      ]
     },
     "execution_count": 109,
     "metadata": {},
     "output_type": "execute_result"
    },
    {
     "data": {
      "image/png": "[encoded data removed]",
      "text/plain": [
       "<Figure size 432x288 with 1 Axes>"
      ]
     },
     "metadata": {
      "needs_background": "light"
     },
     "output_type": "display_data"
    }
   ],
   "source": [
    "# 构造新特征FamilyNum和FamilySize\n",
    "# 将Parch及SibSp字段整合得到一名乘客同行家庭成员总人数FamilyNum的字段，再根据家庭成员具体人数的多少得到家庭规模FamilySize这个新字段\n",
    "full_set['familyNum']=full_set['Parch']+full_set['SibSp']+1\n",
    "#查看familyNum与Survived\n",
    "sns.barplot(data=full_set,x='familyNum',y='Survived')"
   ]
  },
  {
   "cell_type": "markdown",
   "metadata": {},
   "source": [
    "从上图可以看出家庭成员人数在2-4人的时候生存率较高"
   ]
  },
  {
   "cell_type": "code",
   "execution_count": 110,
   "metadata": {},
   "outputs": [
    {
     "data": {
      "text/plain": [
       "<matplotlib.axes._subplots.AxesSubplot at 0x7fd8b63f8990>"
      ]
     },
     "execution_count": 110,
     "metadata": {},
     "output_type": "execute_result"
    },
    {
     "data": {
      "image/png": "[encoded data removed]",
      "text/plain": [
       "<Figure size 432x288 with 1 Axes>"
      ]
     },
     "metadata": {
      "needs_background": "light"
     },
     "output_type": "display_data"
    }
   ],
   "source": [
    "# 根据家庭成员的人数多少，将家庭规模分为3个等级\n",
    "def familysize(familyNum):\n",
    "    if familyNum==1:\n",
    "        return 0\n",
    "    elif (familyNum>=2)&(familyNum<=4):\n",
    "        return 1\n",
    "    else:\n",
    "        return 2\n",
    "full_set['familySize']=full_set['familyNum'].map(familysize)\n",
    "full_set['familySize'].value_counts()\n",
    "\n",
    "#查看familySize与Survived\n",
    "sns.barplot(data=full_set,x='familySize',y='Survived')"
   ]
  },
  {
   "cell_type": "markdown",
   "metadata": {},
   "source": [
    "从家庭规模适中的时候乘客的生存率更高"
   ]
  },
  {
   "cell_type": "code",
   "execution_count": 111,
   "metadata": {},
   "outputs": [
    {
     "data": {
      "text/plain": [
       "<matplotlib.axes._subplots.AxesSubplot at 0x7fd8b63671d0>"
      ]
     },
     "execution_count": 111,
     "metadata": {},
     "output_type": "execute_result"
    },
    {
     "data": {
      "image/png": "[encoded data removed]",
      "text/plain": [
       "<Figure size 432x288 with 1 Axes>"
      ]
     },
     "metadata": {
      "needs_background": "light"
     },
     "output_type": "display_data"
    }
   ],
   "source": [
    "# Cabin字段的首字母代表客舱的类型，也反映不同乘客群体的特点，可能也与乘客的生存率相关\n",
    "# 提取Cabin字段首字母\n",
    "full_set['Deck']=full_set['Cabin'].map(lambda x:x[0])\n",
    "# 查看不同Deck类型乘客的生存率\n",
    "sns.barplot(data=full_set,x='Deck',y='Survived')"
   ]
  },
  {
   "cell_type": "markdown",
   "metadata": {},
   "source": [
    "从上图可以看出，当乘客的客舱类型为`B/D/E`时生存率较高，当客舱类型为`U/T`时生存率较低"
   ]
  },
  {
   "cell_type": "code",
   "execution_count": 112,
   "metadata": {},
   "outputs": [
    {
     "data": {
      "text/plain": [
       "CA. 2343    11\n",
       "CA 2144      8\n",
       "1601         8\n",
       "3101295      7\n",
       "PC 17608     7\n",
       "Name: Ticket, dtype: int64"
      ]
     },
     "execution_count": 112,
     "metadata": {},
     "output_type": "execute_result"
    }
   ],
   "source": [
    "# 同一票号的乘客数量可能不同，可能也与乘客生存率有关系。\n",
    "# 提取各票号的乘客数量\n",
    "TickCountDict={}\n",
    "TickCountDict=full_set['Ticket'].value_counts()\n",
    "TickCountDict.head()"
   ]
  },
  {
   "cell_type": "code",
   "execution_count": 113,
   "metadata": {},
   "outputs": [
    {
     "data": {
      "text/plain": [
       "0    1\n",
       "1    2\n",
       "2    1\n",
       "3    2\n",
       "4    1\n",
       "Name: TickCot, dtype: int64"
      ]
     },
     "execution_count": 113,
     "metadata": {},
     "output_type": "execute_result"
    }
   ],
   "source": [
    "# 将同票号乘客数量并入数据集中\n",
    "full_set['TickCot']=full_set['Ticket'].map(TickCountDict)\n",
    "full_set['TickCot'].head()"
   ]
  },
  {
   "cell_type": "code",
   "execution_count": 114,
   "metadata": {},
   "outputs": [
    {
     "data": {
      "text/plain": [
       "<matplotlib.axes._subplots.AxesSubplot at 0x7fd8b630f410>"
      ]
     },
     "execution_count": 114,
     "metadata": {},
     "output_type": "execute_result"
    },
    {
     "data": {
      "image/png": "[encoded data removed]",
      "text/plain": [
       "<Figure size 432x288 with 1 Axes>"
      ]
     },
     "metadata": {
      "needs_background": "light"
     },
     "output_type": "display_data"
    }
   ],
   "source": [
    "#查看TickCot与Survived之间关系\n",
    "sns.barplot(data=full_set,x='TickCot',y='Survived')"
   ]
  },
  {
   "cell_type": "markdown",
   "metadata": {},
   "source": [
    "从上图可以看出当TickCot等于4的时候乘客生存率较高"
   ]
  },
  {
   "cell_type": "code",
   "execution_count": 115,
   "metadata": {
    "scrolled": true
   },
   "outputs": [
    {
     "data": {
      "text/plain": [
       "<matplotlib.axes._subplots.AxesSubplot at 0x7fd8b6228c10>"
      ]
     },
     "execution_count": 115,
     "metadata": {},
     "output_type": "execute_result"
    },
    {
     "data": {
      "image/png": "[encoded data removed]",
      "text/plain": [
       "<Figure size 432x288 with 1 Axes>"
      ]
     },
     "metadata": {
      "needs_background": "light"
     },
     "output_type": "display_data"
    }
   ],
   "source": [
    "#按照TickCot大小，将TickGroup分为三类。\n",
    "def TickCountGroup(num):\n",
    "    if (num>=2)&(num<=4):\n",
    "        return 0\n",
    "    elif (num==1)|((num>=5)&(num<=8)):\n",
    "        return 1\n",
    "    else :\n",
    "        return 2\n",
    "#得到各位乘客TickGroup的类别\n",
    "full_set['TickGroup']=full_set['TickCot'].map(TickCountGroup)\n",
    "#查看TickGroup与Survived之间关系\n",
    "sns.barplot(data=full_set,x='TickGroup',y='Survived')"
   ]
  },
  {
   "cell_type": "markdown",
   "metadata": {},
   "source": [
    "接下来用特征工程来完成Age缺失值的填充，首先查看一下缺失值的情况"
   ]
  },
  {
   "cell_type": "code",
   "execution_count": 116,
   "metadata": {},
   "outputs": [
    {
     "data": {
      "text/html": [
       "<div>\n",
       "<style scoped>\n",
       "    .dataframe tbody tr th:only-of-type {\n",
       "        vertical-align: middle;\n",
       "    }\n",
       "\n",
       "    .dataframe tbody tr th {\n",
       "        vertical-align: top;\n",
       "    }\n",
       "\n",
       "    .dataframe thead th {\n",
       "        text-align: right;\n",
       "    }\n",
       "</style>\n",
       "<table border=\"1\" class=\"dataframe\">\n",
       "  <thead>\n",
       "    <tr style=\"text-align: right;\">\n",
       "      <th></th>\n",
       "      <th>PassengerId</th>\n",
       "      <th>Survived</th>\n",
       "      <th>Pclass</th>\n",
       "      <th>Name</th>\n",
       "      <th>Sex</th>\n",
       "      <th>Age</th>\n",
       "      <th>SibSp</th>\n",
       "      <th>Parch</th>\n",
       "      <th>Ticket</th>\n",
       "      <th>Fare</th>\n",
       "      <th>Cabin</th>\n",
       "      <th>Embarked</th>\n",
       "      <th>Title</th>\n",
       "      <th>familyNum</th>\n",
       "      <th>familySize</th>\n",
       "      <th>Deck</th>\n",
       "      <th>TickCot</th>\n",
       "      <th>TickGroup</th>\n",
       "    </tr>\n",
       "  </thead>\n",
       "  <tbody>\n",
       "    <tr>\n",
       "      <th>5</th>\n",
       "      <td>6</td>\n",
       "      <td>0.0</td>\n",
       "      <td>3</td>\n",
       "      <td>Moran, Mr. James</td>\n",
       "      <td>male</td>\n",
       "      <td>NaN</td>\n",
       "      <td>0</td>\n",
       "      <td>0</td>\n",
       "      <td>330877</td>\n",
       "      <td>2.135148</td>\n",
       "      <td>U</td>\n",
       "      <td>Q</td>\n",
       "      <td>Mr</td>\n",
       "      <td>1</td>\n",
       "      <td>0</td>\n",
       "      <td>U</td>\n",
       "      <td>1</td>\n",
       "      <td>1</td>\n",
       "    </tr>\n",
       "    <tr>\n",
       "      <th>17</th>\n",
       "      <td>18</td>\n",
       "      <td>1.0</td>\n",
       "      <td>2</td>\n",
       "      <td>Williams, Mr. Charles Eugene</td>\n",
       "      <td>male</td>\n",
       "      <td>NaN</td>\n",
       "      <td>0</td>\n",
       "      <td>0</td>\n",
       "      <td>244373</td>\n",
       "      <td>2.564949</td>\n",
       "      <td>U</td>\n",
       "      <td>S</td>\n",
       "      <td>Mr</td>\n",
       "      <td>1</td>\n",
       "      <td>0</td>\n",
       "      <td>U</td>\n",
       "      <td>1</td>\n",
       "      <td>1</td>\n",
       "    </tr>\n",
       "    <tr>\n",
       "      <th>19</th>\n",
       "      <td>20</td>\n",
       "      <td>1.0</td>\n",
       "      <td>3</td>\n",
       "      <td>Masselmani, Mrs. Fatima</td>\n",
       "      <td>female</td>\n",
       "      <td>NaN</td>\n",
       "      <td>0</td>\n",
       "      <td>0</td>\n",
       "      <td>2649</td>\n",
       "      <td>1.977547</td>\n",
       "      <td>U</td>\n",
       "      <td>C</td>\n",
       "      <td>Mrs</td>\n",
       "      <td>1</td>\n",
       "      <td>0</td>\n",
       "      <td>U</td>\n",
       "      <td>1</td>\n",
       "      <td>1</td>\n",
       "    </tr>\n",
       "    <tr>\n",
       "      <th>26</th>\n",
       "      <td>27</td>\n",
       "      <td>0.0</td>\n",
       "      <td>3</td>\n",
       "      <td>Emir, Mr. Farred Chehab</td>\n",
       "      <td>male</td>\n",
       "      <td>NaN</td>\n",
       "      <td>0</td>\n",
       "      <td>0</td>\n",
       "      <td>2631</td>\n",
       "      <td>1.977547</td>\n",
       "      <td>U</td>\n",
       "      <td>C</td>\n",
       "      <td>Mr</td>\n",
       "      <td>1</td>\n",
       "      <td>0</td>\n",
       "      <td>U</td>\n",
       "      <td>1</td>\n",
       "      <td>1</td>\n",
       "    </tr>\n",
       "    <tr>\n",
       "      <th>28</th>\n",
       "      <td>29</td>\n",
       "      <td>1.0</td>\n",
       "      <td>3</td>\n",
       "      <td>O'Dwyer, Miss. Ellen \"Nellie\"</td>\n",
       "      <td>female</td>\n",
       "      <td>NaN</td>\n",
       "      <td>0</td>\n",
       "      <td>0</td>\n",
       "      <td>330959</td>\n",
       "      <td>2.064226</td>\n",
       "      <td>U</td>\n",
       "      <td>Q</td>\n",
       "      <td>Miss</td>\n",
       "      <td>1</td>\n",
       "      <td>0</td>\n",
       "      <td>U</td>\n",
       "      <td>1</td>\n",
       "      <td>1</td>\n",
       "    </tr>\n",
       "  </tbody>\n",
       "</table>\n",
       "</div>"
      ],
      "text/plain": [
       "    PassengerId  Survived  Pclass                           Name     Sex  Age  \\\n",
       "5             6       0.0       3               Moran, Mr. James    male  NaN   \n",
       "17           18       1.0       2   Williams, Mr. Charles Eugene    male  NaN   \n",
       "19           20       1.0       3        Masselmani, Mrs. Fatima  female  NaN   \n",
       "26           27       0.0       3        Emir, Mr. Farred Chehab    male  NaN   \n",
       "28           29       1.0       3  O'Dwyer, Miss. Ellen \"Nellie\"  female  NaN   \n",
       "\n",
       "    SibSp  Parch  Ticket      Fare Cabin Embarked Title  familyNum  \\\n",
       "5       0      0  330877  2.135148     U        Q    Mr          1   \n",
       "17      0      0  244373  2.564949     U        S    Mr          1   \n",
       "19      0      0    2649  1.977547     U        C   Mrs          1   \n",
       "26      0      0    2631  1.977547     U        C    Mr          1   \n",
       "28      0      0  330959  2.064226     U        Q  Miss          1   \n",
       "\n",
       "    familySize Deck  TickCot  TickGroup  \n",
       "5            0    U        1          1  \n",
       "17           0    U        1          1  \n",
       "19           0    U        1          1  \n",
       "26           0    U        1          1  \n",
       "28           0    U        1          1  "
      ]
     },
     "execution_count": 116,
     "metadata": {},
     "output_type": "execute_result"
    }
   ],
   "source": [
    "#查看缺失值情况\n",
    "full_set[full_set['Age'].isnull()].head()"
   ]
  },
  {
   "cell_type": "code",
   "execution_count": 117,
   "metadata": {},
   "outputs": [
    {
     "data": {
      "text/plain": [
       "Pclass          -0.408106\n",
       "Title_Master    -0.385380\n",
       "Title_Miss      -0.282977\n",
       "SibSp           -0.243699\n",
       "familyNum       -0.240229\n",
       "TickCot         -0.185284\n",
       "Parch           -0.150917\n",
       "Title_Royalty    0.057337\n",
       "Title_Officer    0.166771\n",
       "Title_Mr         0.183965\n",
       "Title_Mrs        0.215091\n",
       "Age              1.000000\n",
       "Name: Age, dtype: float64"
      ]
     },
     "execution_count": 117,
     "metadata": {},
     "output_type": "execute_result"
    }
   ],
   "source": [
    "#筛选数据集\n",
    "AgePre=full_set[['Age','Parch','Pclass','SibSp','Title','familyNum','TickCot']]\n",
    "#进行one-hot编码\n",
    "AgePre=pd.get_dummies(AgePre)\n",
    "ParAge=pd.get_dummies(AgePre['Parch'],prefix='Parch')\n",
    "SibAge=pd.get_dummies(AgePre['SibSp'],prefix='SibSp')\n",
    "PclAge=pd.get_dummies(AgePre['Pclass'],prefix='Pclass')\n",
    "#查看变量间相关性\n",
    "AgeCorrDf=pd.DataFrame()\n",
    "AgeCorrDf=AgePre.corr()\n",
    "AgeCorrDf['Age'].sort_values()"
   ]
  },
  {
   "cell_type": "code",
   "execution_count": 118,
   "metadata": {},
   "outputs": [
    {
     "data": {
      "text/html": [
       "<div>\n",
       "<style scoped>\n",
       "    .dataframe tbody tr th:only-of-type {\n",
       "        vertical-align: middle;\n",
       "    }\n",
       "\n",
       "    .dataframe tbody tr th {\n",
       "        vertical-align: top;\n",
       "    }\n",
       "\n",
       "    .dataframe thead th {\n",
       "        text-align: right;\n",
       "    }\n",
       "</style>\n",
       "<table border=\"1\" class=\"dataframe\">\n",
       "  <thead>\n",
       "    <tr style=\"text-align: right;\">\n",
       "      <th></th>\n",
       "      <th>Age</th>\n",
       "      <th>Parch</th>\n",
       "      <th>Pclass</th>\n",
       "      <th>SibSp</th>\n",
       "      <th>familyNum</th>\n",
       "      <th>TickCot</th>\n",
       "      <th>Title_Master</th>\n",
       "      <th>Title_Miss</th>\n",
       "      <th>Title_Mr</th>\n",
       "      <th>Title_Mrs</th>\n",
       "      <th>...</th>\n",
       "      <th>SibSp_0</th>\n",
       "      <th>SibSp_1</th>\n",
       "      <th>SibSp_2</th>\n",
       "      <th>SibSp_3</th>\n",
       "      <th>SibSp_4</th>\n",
       "      <th>SibSp_5</th>\n",
       "      <th>SibSp_8</th>\n",
       "      <th>Pclass_1</th>\n",
       "      <th>Pclass_2</th>\n",
       "      <th>Pclass_3</th>\n",
       "    </tr>\n",
       "  </thead>\n",
       "  <tbody>\n",
       "    <tr>\n",
       "      <th>0</th>\n",
       "      <td>22.0</td>\n",
       "      <td>0</td>\n",
       "      <td>3</td>\n",
       "      <td>1</td>\n",
       "      <td>2</td>\n",
       "      <td>1</td>\n",
       "      <td>0</td>\n",
       "      <td>0</td>\n",
       "      <td>1</td>\n",
       "      <td>0</td>\n",
       "      <td>...</td>\n",
       "      <td>0</td>\n",
       "      <td>1</td>\n",
       "      <td>0</td>\n",
       "      <td>0</td>\n",
       "      <td>0</td>\n",
       "      <td>0</td>\n",
       "      <td>0</td>\n",
       "      <td>0</td>\n",
       "      <td>0</td>\n",
       "      <td>1</td>\n",
       "    </tr>\n",
       "    <tr>\n",
       "      <th>1</th>\n",
       "      <td>38.0</td>\n",
       "      <td>0</td>\n",
       "      <td>1</td>\n",
       "      <td>1</td>\n",
       "      <td>2</td>\n",
       "      <td>2</td>\n",
       "      <td>0</td>\n",
       "      <td>0</td>\n",
       "      <td>0</td>\n",
       "      <td>1</td>\n",
       "      <td>...</td>\n",
       "      <td>0</td>\n",
       "      <td>1</td>\n",
       "      <td>0</td>\n",
       "      <td>0</td>\n",
       "      <td>0</td>\n",
       "      <td>0</td>\n",
       "      <td>0</td>\n",
       "      <td>1</td>\n",
       "      <td>0</td>\n",
       "      <td>0</td>\n",
       "    </tr>\n",
       "    <tr>\n",
       "      <th>2</th>\n",
       "      <td>26.0</td>\n",
       "      <td>0</td>\n",
       "      <td>3</td>\n",
       "      <td>0</td>\n",
       "      <td>1</td>\n",
       "      <td>1</td>\n",
       "      <td>0</td>\n",
       "      <td>1</td>\n",
       "      <td>0</td>\n",
       "      <td>0</td>\n",
       "      <td>...</td>\n",
       "      <td>1</td>\n",
       "      <td>0</td>\n",
       "      <td>0</td>\n",
       "      <td>0</td>\n",
       "      <td>0</td>\n",
       "      <td>0</td>\n",
       "      <td>0</td>\n",
       "      <td>0</td>\n",
       "      <td>0</td>\n",
       "      <td>1</td>\n",
       "    </tr>\n",
       "    <tr>\n",
       "      <th>3</th>\n",
       "      <td>35.0</td>\n",
       "      <td>0</td>\n",
       "      <td>1</td>\n",
       "      <td>1</td>\n",
       "      <td>2</td>\n",
       "      <td>2</td>\n",
       "      <td>0</td>\n",
       "      <td>0</td>\n",
       "      <td>0</td>\n",
       "      <td>1</td>\n",
       "      <td>...</td>\n",
       "      <td>0</td>\n",
       "      <td>1</td>\n",
       "      <td>0</td>\n",
       "      <td>0</td>\n",
       "      <td>0</td>\n",
       "      <td>0</td>\n",
       "      <td>0</td>\n",
       "      <td>1</td>\n",
       "      <td>0</td>\n",
       "      <td>0</td>\n",
       "    </tr>\n",
       "    <tr>\n",
       "      <th>4</th>\n",
       "      <td>35.0</td>\n",
       "      <td>0</td>\n",
       "      <td>3</td>\n",
       "      <td>0</td>\n",
       "      <td>1</td>\n",
       "      <td>1</td>\n",
       "      <td>0</td>\n",
       "      <td>0</td>\n",
       "      <td>1</td>\n",
       "      <td>0</td>\n",
       "      <td>...</td>\n",
       "      <td>1</td>\n",
       "      <td>0</td>\n",
       "      <td>0</td>\n",
       "      <td>0</td>\n",
       "      <td>0</td>\n",
       "      <td>0</td>\n",
       "      <td>0</td>\n",
       "      <td>0</td>\n",
       "      <td>0</td>\n",
       "      <td>1</td>\n",
       "    </tr>\n",
       "  </tbody>\n",
       "</table>\n",
       "<p>5 rows × 30 columns</p>\n",
       "</div>"
      ],
      "text/plain": [
       "    Age  Parch  Pclass  SibSp  familyNum  TickCot  Title_Master  Title_Miss  \\\n",
       "0  22.0      0       3      1          2        1             0           0   \n",
       "1  38.0      0       1      1          2        2             0           0   \n",
       "2  26.0      0       3      0          1        1             0           1   \n",
       "3  35.0      0       1      1          2        2             0           0   \n",
       "4  35.0      0       3      0          1        1             0           0   \n",
       "\n",
       "   Title_Mr  Title_Mrs  ...  SibSp_0  SibSp_1  SibSp_2  SibSp_3  SibSp_4  \\\n",
       "0         1          0  ...        0        1        0        0        0   \n",
       "1         0          1  ...        0        1        0        0        0   \n",
       "2         0          0  ...        1        0        0        0        0   \n",
       "3         0          1  ...        0        1        0        0        0   \n",
       "4         1          0  ...        1        0        0        0        0   \n",
       "\n",
       "   SibSp_5  SibSp_8  Pclass_1  Pclass_2  Pclass_3  \n",
       "0        0        0         0         0         1  \n",
       "1        0        0         1         0         0  \n",
       "2        0        0         0         0         1  \n",
       "3        0        0         1         0         0  \n",
       "4        0        0         0         0         1  \n",
       "\n",
       "[5 rows x 30 columns]"
      ]
     },
     "execution_count": 118,
     "metadata": {},
     "output_type": "execute_result"
    }
   ],
   "source": [
    "#拼接数据\n",
    "AgePre=pd.concat([AgePre,ParAge,SibAge,PclAge],axis=1)\n",
    "AgePre.head()"
   ]
  },
  {
   "cell_type": "code",
   "execution_count": 119,
   "metadata": {},
   "outputs": [
    {
     "data": {
      "text/plain": [
       "RandomForestRegressor(bootstrap=True, ccp_alpha=0.0, criterion='mse',\n",
       "                      max_depth=None, max_features='auto', max_leaf_nodes=None,\n",
       "                      max_samples=None, min_impurity_decrease=0.0,\n",
       "                      min_impurity_split=None, min_samples_leaf=1,\n",
       "                      min_samples_split=2, min_weight_fraction_leaf=0.0,\n",
       "                      n_estimators=500, n_jobs=-1, oob_score=False,\n",
       "                      random_state=None, verbose=0, warm_start=False)"
      ]
     },
     "execution_count": 119,
     "metadata": {},
     "output_type": "execute_result"
    }
   ],
   "source": [
    "# 接下来拆分数据并建立模型（利用随机森林构建模型）\n",
    "#拆分实验集和预测集\n",
    "AgeKnown=AgePre[AgePre['Age'].notnull()]\n",
    "AgeUnKnown=AgePre[AgePre['Age'].isnull()]\n",
    "\n",
    "#生成实验数据的特征和标签\n",
    "AgeKnown_X=AgeKnown.drop(['Age'],axis=1)\n",
    "AgeKnown_y=AgeKnown['Age']\n",
    "#生成预测数据的特征\n",
    "AgeUnKnown_X=AgeUnKnown.drop(['Age'],axis=1)\n",
    "\n",
    "#利用随机森林构建模型\n",
    "from sklearn.ensemble import RandomForestRegressor\n",
    "rfr=RandomForestRegressor(random_state=None,n_estimators=500,n_jobs=-1)\n",
    "rfr.fit(AgeKnown_X,AgeKnown_y)"
   ]
  },
  {
   "cell_type": "code",
   "execution_count": 120,
   "metadata": {},
   "outputs": [
    {
     "name": "stdout",
     "output_type": "stream",
     "text": [
      "<class 'pandas.core.frame.DataFrame'>\n",
      "RangeIndex: 1309 entries, 0 to 1308\n",
      "Data columns (total 18 columns):\n",
      " #   Column       Non-Null Count  Dtype  \n",
      "---  ------       --------------  -----  \n",
      " 0   PassengerId  1309 non-null   int64  \n",
      " 1   Survived     891 non-null    float64\n",
      " 2   Pclass       1309 non-null   int64  \n",
      " 3   Name         1309 non-null   object \n",
      " 4   Sex          1309 non-null   object \n",
      " 5   Age          1309 non-null   float64\n",
      " 6   SibSp        1309 non-null   int64  \n",
      " 7   Parch        1309 non-null   int64  \n",
      " 8   Ticket       1309 non-null   object \n",
      " 9   Fare         1309 non-null   float64\n",
      " 10  Cabin        1309 non-null   object \n",
      " 11  Embarked     1309 non-null   object \n",
      " 12  Title        1309 non-null   object \n",
      " 13  familyNum    1309 non-null   int64  \n",
      " 14  familySize   1309 non-null   int64  \n",
      " 15  Deck         1309 non-null   object \n",
      " 16  TickCot      1309 non-null   int64  \n",
      " 17  TickGroup    1309 non-null   int64  \n",
      "dtypes: float64(3), int64(8), object(7)\n",
      "memory usage: 184.2+ KB\n"
     ]
    }
   ],
   "source": [
    "# 然后利用模型进行预测并填入原数据集中\n",
    "\n",
    "#模型得分\n",
    "rfr.score(AgeKnown_X,AgeKnown_y)\n",
    "\n",
    "#预测年龄\n",
    "AgeUnKnown_y=rfr.predict(AgeUnKnown_X)\n",
    "#填充预测数据\n",
    "full_set.loc[full_set['Age'].isnull(),['Age']]=AgeUnKnown_y\n",
    "full_set.info()  #此时已无缺失值"
   ]
  },
  {
   "cell_type": "markdown",
   "metadata": {},
   "source": [
    "#### 1.2.2.3 同组识别"
   ]
  },
  {
   "cell_type": "markdown",
   "metadata": {},
   "source": [
    "部分具有明显共同特征的样本可能与整体模型的逻辑并不一致，如果将这部分就具有同组效应的样本识别出来并对其数据进行加加以修正，便可以有效提高模型的准确性"
   ]
  },
  {
   "cell_type": "markdown",
   "metadata": {},
   "source": [
    "在Titanic项目中，我们主要探究相同姓氏的乘客是否存在明显的同组效应"
   ]
  },
  {
   "cell_type": "markdown",
   "metadata": {},
   "source": [
    "由于性别和年龄与乘客生存率关系最密切，因此我们用这两个特征将数据分为两类：\n",
    "* 12岁以上男性\n",
    "* 女性以及年龄在12岁一下的儿童"
   ]
  },
  {
   "cell_type": "code",
   "execution_count": 121,
   "metadata": {},
   "outputs": [],
   "source": [
    "#提取乘客的姓氏及相应的乘客数\n",
    "full_set['Surname']=full_set['Name'].map(lambda x:x.split(',')[0].strip())\n",
    "SurNameDict={}\n",
    "SurNameDict=full_set['Surname'].value_counts()\n",
    "full_set['SurnameNum']=full_set['Surname'].map(SurNameDict)\n",
    "\n",
    "#将数据分为两组\n",
    "MaleDf=full_set[(full_set['Sex']=='male')&(full_set['Age']>12)&(full_set['familyNum']>=2)]\n",
    "FemChildDf=full_set[((full_set['Sex']=='female')|(full_set['Age']<=12))&(full_set['familyNum']>=2)]"
   ]
  },
  {
   "cell_type": "code",
   "execution_count": 122,
   "metadata": {},
   "outputs": [
    {
     "data": {
      "text/plain": [
       "0.0    89\n",
       "1.0    19\n",
       "0.5     3\n",
       "Name: Survived, dtype: int64"
      ]
     },
     "execution_count": 122,
     "metadata": {},
     "output_type": "execute_result"
    }
   ],
   "source": [
    "# 男性同组效应分析\n",
    "MSurNamDf=MaleDf['Survived'].groupby(MaleDf['Surname']).mean()\n",
    "MSurNamDf.head()\n",
    "MSurNamDf.value_counts()"
   ]
  },
  {
   "cell_type": "markdown",
   "metadata": {},
   "source": [
    "从上图可以看出，大多数同姓氏的男性存在“同生共死”的特点，因此利用该同组效应，我们对生存率为1的姓氏里的男性数据进行修正，提升其预测为“可以幸存”的概率"
   ]
  },
  {
   "cell_type": "code",
   "execution_count": 123,
   "metadata": {},
   "outputs": [
    {
     "data": {
      "text/plain": [
       "Index(['Beane', 'Beckwith', 'Bishop', 'Cardeza', 'Chambers', 'Dick',\n",
       "       'Duff Gordon', 'Frauenthal', 'Frolicher-Stehli', 'Goldenberg',\n",
       "       'Greenfield', 'Harder', 'Hoyt', 'Kimball', 'Lindqvist', 'McCoy',\n",
       "       'Nakid', 'Persson', 'Taylor'],\n",
       "      dtype='object', name='Surname')"
      ]
     },
     "execution_count": 123,
     "metadata": {},
     "output_type": "execute_result"
    }
   ],
   "source": [
    "#获得生存率为1的姓氏\n",
    "MSurNamDict={}\n",
    "MSurNamDict=MSurNamDf[MSurNamDf.values==1].index\n",
    "MSurNamDict"
   ]
  },
  {
   "cell_type": "code",
   "execution_count": 124,
   "metadata": {},
   "outputs": [
    {
     "data": {
      "text/plain": [
       "1.000000    115\n",
       "0.000000     27\n",
       "0.750000      2\n",
       "0.333333      1\n",
       "0.142857      1\n",
       "Name: Survived, dtype: int64"
      ]
     },
     "execution_count": 124,
     "metadata": {},
     "output_type": "execute_result"
    }
   ],
   "source": [
    "#分析女性及儿童同组效应\n",
    "FCSurNamDf=FemChildDf['Survived'].groupby(FemChildDf['Surname']).mean()\n",
    "FCSurNamDf.head()\n",
    "FCSurNamDf.value_counts()"
   ]
  },
  {
   "cell_type": "markdown",
   "metadata": {},
   "source": [
    "与男性组特征相似，女性及儿童也存在明显的“同生共死”的特点，因此利用同组效应，对生存率为0的姓氏里的女性及儿童数据进行修正，提升其预测为“并未幸存”的概率"
   ]
  },
  {
   "cell_type": "code",
   "execution_count": 125,
   "metadata": {},
   "outputs": [
    {
     "data": {
      "text/plain": [
       "Index(['Ahlin', 'Arnold-Franchi', 'Barbara', 'Boulos', 'Bourke', 'Caram',\n",
       "       'Danbom', 'Ford', 'Goodwin', 'Ilmakangas', 'Johnston', 'Jussila',\n",
       "       'Lahtinen', 'Lefebre', 'Lobb', 'Palsson', 'Panula', 'Rice', 'Robins',\n",
       "       'Rosblom', 'Sage', 'Skoog', 'Strom', 'Turpin', 'Van Impe',\n",
       "       'Vander Planke', 'Zabour'],\n",
       "      dtype='object', name='Surname')"
      ]
     },
     "execution_count": 125,
     "metadata": {},
     "output_type": "execute_result"
    }
   ],
   "source": [
    "#获得生存率为0的姓氏\n",
    "FCSurNamDict={}\n",
    "FCSurNamDict=FCSurNamDf[FCSurNamDf.values==0].index\n",
    "FCSurNamDict"
   ]
  },
  {
   "cell_type": "markdown",
   "metadata": {},
   "source": [
    "然后我们对数据集中的这些姓氏的两组数据分别进行修正：\n",
    "* 男性数据修正为（用年龄和性别的最高生存率组合进行修正）：\n",
    "    * 性别改成女\n",
    "    * 年龄改为5\n",
    "* 女性及儿童数据修正为（用年龄和性别的最低生存率组合进行修正）：\n",
    "    * 性别改成男\n",
    "    * 年龄改为60"
   ]
  },
  {
   "cell_type": "code",
   "execution_count": 126,
   "metadata": {},
   "outputs": [],
   "source": [
    "#对数据集中这些姓氏的男性数据进行修正：1、性别改为女；2、年龄改为5。\n",
    "full_set.loc[(full_set['Survived'].isnull())&(full_set['Surname'].isin(MSurNamDict))&(full_set['Sex']=='male'),'Age']=5\n",
    "full_set.loc[(full_set['Survived'].isnull())&(full_set['Surname'].isin(MSurNamDict))&(full_set['Sex']=='male'),'Sex']='female'\n",
    "\n",
    "#对数据集中这些姓氏的女性及儿童的数据进行修正：1、性别改为男；2、年龄改为60。\n",
    "full_set.loc[(full_set['Survived'].isnull())&(full_set['Surname'].isin(FCSurNamDict))&((full_set['Sex']=='female')|(full_set['Age']<=12)),'Age']=60\n",
    "full_set.loc[(full_set['Survived'].isnull())&(full_set['Surname'].isin(FCSurNamDict))&((full_set['Sex']=='female')|(full_set['Age']<=12)),'Sex']='male'"
   ]
  },
  {
   "cell_type": "markdown",
   "metadata": {},
   "source": [
    "#### 1.2.2.4 筛选子集"
   ]
  },
  {
   "cell_type": "markdown",
   "metadata": {},
   "source": [
    "在对数据进行分析处理的过程中，数据的维度更高了，为提升数据有效性需要对数据进行降维处理。通过找出与乘客生存率“Survived”相关性更高的特征，剔除重复的且相关性较低的特征，从而实现数据降维"
   ]
  },
  {
   "cell_type": "code",
   "execution_count": 127,
   "metadata": {},
   "outputs": [
    {
     "data": {
      "text/plain": [
       "Pclass       -0.338481\n",
       "TickGroup    -0.319278\n",
       "Age          -0.059837\n",
       "SibSp        -0.035322\n",
       "familyNum     0.016639\n",
       "TickCot       0.064962\n",
       "Parch         0.081629\n",
       "familySize    0.108631\n",
       "Fare          0.331805\n",
       "Survived      1.000000\n",
       "Name: Survived, dtype: float64"
      ]
     },
     "execution_count": 127,
     "metadata": {},
     "output_type": "execute_result"
    }
   ],
   "source": [
    "#人工筛选\n",
    "fullSel=full_set.drop(['Cabin','Name','Ticket','PassengerId','Surname','SurnameNum'],axis=1)\n",
    "#查看各特征与标签的相关性\n",
    "corrDf=pd.DataFrame()\n",
    "corrDf=fullSel.corr()\n",
    "corrDf['Survived'].sort_values(ascending=True)"
   ]
  },
  {
   "cell_type": "code",
   "execution_count": 128,
   "metadata": {},
   "outputs": [
    {
     "data": {
      "text/plain": [
       "(array([0.5, 1.5, 2.5, 3.5, 4.5, 5.5, 6.5, 7.5, 8.5, 9.5]),\n",
       " <a list of 10 Text xticklabel objects>)"
      ]
     },
     "execution_count": 128,
     "metadata": {},
     "output_type": "execute_result"
    },
    {
     "data": {
      "image/png": "[encoded data removed]",
      "text/plain": [
       "<Figure size 576x576 with 2 Axes>"
      ]
     },
     "metadata": {
      "needs_background": "light"
     },
     "output_type": "display_data"
    }
   ],
   "source": [
    "#热力图，查看Survived与其他特征间相关性大小\n",
    "import matplotlib.pyplot as plt\n",
    "plt.figure(figsize=(8,8))\n",
    "sns.heatmap(fullSel[['Survived','Age','Embarked','Fare','Parch','Pclass',\n",
    "                    'Sex','SibSp','Title','familyNum','familySize','Deck',\n",
    "                     'TickCot','TickGroup']].corr(),cmap='BrBG',annot=True,\n",
    "           linewidths=.5)\n",
    "plt.xticks(rotation=45)"
   ]
  },
  {
   "cell_type": "code",
   "execution_count": 129,
   "metadata": {},
   "outputs": [],
   "source": [
    "# 先人工初步筛除与标签预测明显不相关或相关度很低的特征，再查看剩余特征与标签之间的相关性大小做进一步降维\n",
    "fullSel=fullSel.drop(['familyNum','SibSp','TickCot','Parch'],axis=1)\n",
    "#one-hot编码\n",
    "fullSel=pd.get_dummies(fullSel)\n",
    "PclassDf=pd.get_dummies(full_set['Pclass'],prefix='Pclass')\n",
    "TickGroupDf=pd.get_dummies(full_set['TickGroup'],prefix='TickGroup')\n",
    "familySizeDf=pd.get_dummies(full_set['familySize'],prefix='familySize')\n",
    "\n",
    "fullSel=pd.concat([fullSel,PclassDf,TickGroupDf,familySizeDf],axis=1)"
   ]
  },
  {
   "cell_type": "markdown",
   "metadata": {},
   "source": [
    "## 模型设计"
   ]
  },
  {
   "cell_type": "markdown",
   "metadata": {},
   "source": [
    "构建神经网络来构建模型"
   ]
  },
  {
   "cell_type": "code",
   "execution_count": 145,
   "metadata": {},
   "outputs": [
    {
     "name": "stdout",
     "output_type": "stream",
     "text": [
      "   Survived  Pclass   Age      Fare  familySize  TickGroup  Sex_female  \\\n",
      "0       0.0       3  22.0  1.981001           1          1           0   \n",
      "1       1.0       1  38.0  4.266662           1          0           1   \n",
      "2       1.0       3  26.0  2.070022           0          1           1   \n",
      "3       1.0       1  35.0  3.972177           1          0           1   \n",
      "4       0.0       3  35.0  2.085672           0          1           0   \n",
      "\n",
      "   Sex_male  Embarked_C  Embarked_Q  ...  Deck_U  Pclass_1  Pclass_2  \\\n",
      "0         1           0           0  ...       1         0         0   \n",
      "1         0           1           0  ...       0         1         0   \n",
      "2         0           0           0  ...       1         0         0   \n",
      "3         0           0           0  ...       0         1         0   \n",
      "4         1           0           0  ...       1         0         0   \n",
      "\n",
      "   Pclass_3  TickGroup_0  TickGroup_1  TickGroup_2  familySize_0  \\\n",
      "0         1            0            1            0             0   \n",
      "1         0            1            0            0             0   \n",
      "2         1            0            1            0             1   \n",
      "3         0            1            0            0             0   \n",
      "4         1            0            1            0             1   \n",
      "\n",
      "   familySize_1  familySize_2  \n",
      "0             1             0  \n",
      "1             1             0  \n",
      "2             0             0  \n",
      "3             1             0  \n",
      "4             0             0  \n",
      "\n",
      "[5 rows x 35 columns]\n"
     ]
    }
   ],
   "source": [
    "#拆分实验数据与预测数据\n",
    "experData=fullSel[fullSel['Survived'].notnull()]\n",
    "preData=fullSel[fullSel['Survived'].isnull()]\n",
    "# experData[:,:]=experData[:,:].map(lambda x:float(x))\n",
    "# print(experData.head())\n",
    "# experData.to_csv(\"./data/titanic/clean_trainset.csv\", index=False)\n",
    "# print(experData.columns)\n",
    "# preData.to_csv(\"./data/titanic/clean_testset.csv\", index=False)\n",
    "experData_X=experData.drop('Survived',axis=1)\n",
    "# print(experData_X.head())\n",
    "experData_y=experData['Survived']\n",
    "preData_X=preData.drop('Survived',axis=1)"
   ]
  },
  {
   "cell_type": "code",
   "execution_count": 159,
   "metadata": {},
   "outputs": [],
   "source": [
    "# 将所有的数据都变为float数据\n",
    "column_name = ['Survived', 'Pclass', 'Age', 'Fare', 'familySize', 'TickGroup',\n",
    "       'Sex_female', 'Sex_male', 'Embarked_C', 'Embarked_Q', 'Embarked_S',\n",
    "       'Title_Master', 'Title_Miss', 'Title_Mr', 'Title_Mrs', 'Title_Officer',\n",
    "       'Title_Royalty', 'Deck_A', 'Deck_B', 'Deck_C', 'Deck_D', 'Deck_E',\n",
    "       'Deck_F', 'Deck_G', 'Deck_T', 'Deck_U', 'Pclass_1', 'Pclass_2',\n",
    "       'Pclass_3', 'TickGroup_0', 'TickGroup_1', 'TickGroup_2', 'familySize_0',\n",
    "       'familySize_1', 'familySize_2']\n",
    "for item in column_name:\n",
    "    experData[item]=experData[item].map(lambda x:float(x))\n",
    "# 将数据保存在csv文件中\n",
    "experData.to_csv(\"./data/titanic/clean_trainset.csv\", index=False)\n",
    "preData.to_csv(\"./data/titanic/clean_testset.csv\", index=False)\n",
    "# print(experData.head())"
   ]
  },
  {
   "cell_type": "markdown",
   "metadata": {},
   "source": [
    "## 模型训练"
   ]
  },
  {
   "cell_type": "code",
   "execution_count": 163,
   "metadata": {},
   "outputs": [
    {
     "name": "stdout",
     "output_type": "stream",
     "text": [
      "Loss Test: 2.8180017471313477\n",
      "Epoch 000: Loss: 1.060, Accuracy: 54.770%\n",
      "Epoch 050: Loss: 0.361, Accuracy: 84.175%\n",
      "Epoch 100: Loss: 0.333, Accuracy: 85.859%\n",
      "Epoch 150: Loss: 0.320, Accuracy: 87.879%\n",
      "Epoch 200: Loss: 0.315, Accuracy: 87.430%\n",
      "Epoch 250: Loss: 0.305, Accuracy: 87.767%\n",
      "Epoch 300: Loss: 0.278, Accuracy: 88.440%\n",
      "Epoch 350: Loss: 0.274, Accuracy: 89.338%\n",
      "Epoch 400: Loss: 0.271, Accuracy: 88.103%\n",
      "Epoch 450: Loss: 0.260, Accuracy: 89.113%\n",
      "Epoch 500: Loss: 0.257, Accuracy: 88.440%\n",
      "训练完毕\n"
     ]
    }
   ],
   "source": [
    "from __future__ import absolute_import, division, print_function, unicode_literals\n",
    "import os\n",
    "import tensorflow as tf\n",
    "\n",
    "# 获取数据集\n",
    "\n",
    "# df = pd.read_csv(\"../data/titanic/clean_trainset.csv\")\n",
    "# print(df)\n",
    "\n",
    "column_name = ['Survived', 'Pclass', 'Age', 'Fare', 'familySize', 'TickGroup',\n",
    "   'Sex_female', 'Sex_male', 'Embarked_C', 'Embarked_Q', 'Embarked_S',\n",
    "   'Title_Master', 'Title_Miss', 'Title_Mr', 'Title_Mrs', 'Title_Officer',\n",
    "   'Title_Royalty', 'Deck_A', 'Deck_B', 'Deck_C', 'Deck_D', 'Deck_E',\n",
    "   'Deck_F', 'Deck_G', 'Deck_T', 'Deck_U', 'Pclass_1', 'Pclass_2',\n",
    "   'Pclass_3', 'TickGroup_0', 'TickGroup_1', 'TickGroup_2', 'familySize_0',\n",
    "   'familySize_1', 'familySize_2']\n",
    "feature_name = column_name[1:]\n",
    "label_name = column_name[0]\n",
    "# column_defaults = [tf.int32, tf.float32, tf.float32, tf.int32, tf.int32, \n",
    "#    \ttf.int32, tf.int32, tf.int32, tf.int32, tf.int32, tf.int32, tf.int32, \n",
    "#    \ttf.int32, tf.int32, tf.int32, tf.int32, tf.int32, tf.int32, tf.int32, \n",
    "#    \ttf.int32, tf.int32, tf.int32, tf.int32, tf.int32, tf.int32, tf.int32, \n",
    "#    \ttf.int32, tf.int32, tf.int32, tf.int32, tf.int32, tf.int32, tf.int32, \n",
    "#    \ttf.int32]\n",
    "\n",
    "\n",
    "# print(\"Features: {}\".format(feature_name))\n",
    "# print(\"label: {}\".format(label_name))\n",
    "\n",
    "class_name = [\"die\", \"live\"]\n",
    "\n",
    "# 创建可以用来训练的数据集\n",
    "\n",
    "batch_size = 32\n",
    "\n",
    "train_dataset = tf.data.experimental.make_csv_dataset(\n",
    "    \"./data/titanic/clean_trainset.csv\",\n",
    "    batch_size,\n",
    "    column_names=column_name,\n",
    "    label_name=label_name,\n",
    "    num_epochs=1)\n",
    "\n",
    "features, labels = next(iter(train_dataset))\n",
    "# print(features)\n",
    "\n",
    "def pack_features_vector(features, labels):\n",
    "    \"\"\"将特征打包到一个数组中\"\"\"\n",
    "    features = tf.stack(list(features.values()), axis=1)\n",
    "    return features, labels\n",
    "\n",
    "train_dataset = train_dataset.map(pack_features_vector)\n",
    "\n",
    "features, labels = next(iter(train_dataset))\n",
    "# print(features[0:5])\n",
    "\n",
    "# 创建模型\n",
    "model = tf.keras.Sequential([\n",
    "    tf.keras.layers.Dense(25, activation=tf.nn.relu, input_shape=(34, )),\n",
    "    tf.keras.layers.Dense(25, activation=tf.nn.relu),\n",
    "    tf.keras.layers.Dense(25, activation=tf.nn.relu),\n",
    "    tf.keras.layers.Dense(5)\n",
    "    ])\n",
    "\n",
    "# 定义损失函数\n",
    "\n",
    "loss_object = tf.keras.losses.SparseCategoricalCrossentropy(from_logits=True)\n",
    "\n",
    "def loss(model, x, y):\n",
    "    y_ = model(x)\n",
    "    return loss_object(y_true=y, y_pred=y_)\n",
    "\n",
    "l = loss(model, features, labels)\n",
    "\n",
    "print(\"Loss Test: {}\".format(l))\n",
    "\n",
    "# 计算梯度\n",
    "\n",
    "def grad(model, inputs, targets):\n",
    "    with tf.GradientTape() as tape:\n",
    "        loss_value = loss(model, inputs, targets)\n",
    "    return loss_value, tape.gradient(loss_value, model.trainable_variables)\n",
    "\n",
    "# 设置优化器\n",
    "\n",
    "optimizer = tf.keras.optimizers.Adam(learning_rate=0.001)\n",
    "\n",
    "# 保留结果用于绘制图表\n",
    "\n",
    "train_loss_results = []\n",
    "train_accuracy_results = []\n",
    "\n",
    "# 开始训练\n",
    "\n",
    "num_epochs = 501\n",
    "\n",
    "for epoch in range(num_epochs):\n",
    "    epoch_loss_avg = tf.keras.metrics.Mean()\n",
    "    epoch_accuracy = tf.keras.metrics.SparseCategoricalAccuracy()\n",
    "\n",
    "    # 训练循环-使用大小为32的batchs\n",
    "    for x, y in train_dataset:\n",
    "        # 优化模型\n",
    "        loss_value, grads = grad(model, x, y)\n",
    "        optimizer.apply_gradients(zip(grads, model.trainable_variables))\n",
    "\n",
    "        # 追踪进度\n",
    "        epoch_loss_avg(loss_value) # 添加当前的batch loss\n",
    "        epoch_accuracy(y, model(x)) # 比较预测标签和真实标签\n",
    "\n",
    "    # 循环结束\n",
    "    train_loss_results.append(epoch_loss_avg.result())\n",
    "    train_accuracy_results.append(epoch_accuracy.result())\n",
    "\n",
    "    if epoch % 50 == 0:\n",
    "        print(\"Epoch {:03d}: Loss: {:.3f}, Accuracy: {:.3%}\".format(epoch,\n",
    "                                                                    epoch_loss_avg.result(),\n",
    "                                                                    epoch_accuracy.result()))\n",
    "\n",
    "print(\"训练完毕\")\n",
    "# 绘制可视化损失函数随时间推移而变化的情况\n",
    "\n",
    "# fig, axes = plt.subplots(2, sharex=True, figsize=(12, 8))\n",
    "# fig.suptitle('Training Metrics')\n",
    "\n",
    "# axes[0].set_ylabel(\"Loss\", fontsize=14)\n",
    "# axes[0].plot(train_loss_results)\n",
    "\n",
    "# axes[1].set_ylabel(\"Accuracy\", fontsize=14)\n",
    "# axes[1].set_xlabel(\"Epoch\", fontsize=14)\n",
    "# axes[1].plot(train_accuracy_results)\n",
    "# plt.show()\n"
   ]
  },
  {
   "cell_type": "markdown",
   "metadata": {},
   "source": [
    "## 模型评测"
   ]
  },
  {
   "cell_type": "code",
   "execution_count": 164,
   "metadata": {},
   "outputs": [
    {
     "name": "stdout",
     "output_type": "stream",
     "text": [
      "Example 0 prediction: die (93.7%)\n",
      "Example 1 prediction: die (74.1%)\n",
      "Example 2 prediction: die (96.6%)\n",
      "Example 3 prediction: die (76.7%)\n",
      "Example 4 prediction: live (96.8%)\n",
      "Example 5 prediction: die (93.0%)\n",
      "Example 6 prediction: live (62.5%)\n",
      "Example 7 prediction: die (99.9%)\n",
      "Example 8 prediction: live (99.9%)\n",
      "Example 9 prediction: die (100.0%)\n",
      "Example 10 prediction: die (81.9%)\n",
      "Example 11 prediction: die (66.6%)\n",
      "Example 12 prediction: live (100.0%)\n",
      "Example 13 prediction: die (99.1%)\n",
      "Example 14 prediction: live (99.9%)\n",
      "Example 15 prediction: live (100.0%)\n",
      "Example 16 prediction: die (84.0%)\n",
      "Example 17 prediction: die (59.8%)\n",
      "Example 18 prediction: die (98.9%)\n",
      "Example 19 prediction: live (65.8%)\n",
      "Example 20 prediction: die (82.2%)\n",
      "Example 21 prediction: die (99.1%)\n",
      "Example 22 prediction: live (95.0%)\n",
      "Example 23 prediction: die (99.2%)\n",
      "Example 24 prediction: live (100.0%)\n",
      "Example 25 prediction: die (99.0%)\n",
      "Example 26 prediction: live (100.0%)\n",
      "Example 27 prediction: die (75.2%)\n",
      "Example 28 prediction: die (70.1%)\n",
      "Example 29 prediction: die (96.5%)\n",
      "Example 30 prediction: die (98.4%)\n",
      "Example 31 prediction: die (100.0%)\n",
      "Example 32 prediction: live (69.2%)\n",
      "Example 33 prediction: die (97.6%)\n",
      "Example 34 prediction: die (96.7%)\n",
      "Example 35 prediction: live (71.9%)\n",
      "Example 36 prediction: live (51.5%)\n",
      "Example 37 prediction: live (61.5%)\n",
      "Example 38 prediction: die (84.7%)\n",
      "Example 39 prediction: live (80.0%)\n",
      "Example 40 prediction: die (97.3%)\n",
      "Example 41 prediction: die (60.0%)\n",
      "Example 42 prediction: die (90.4%)\n",
      "Example 43 prediction: live (99.7%)\n",
      "Example 44 prediction: live (100.0%)\n",
      "Example 45 prediction: die (86.2%)\n",
      "Example 46 prediction: live (53.9%)\n",
      "Example 47 prediction: die (91.7%)\n",
      "Example 48 prediction: live (100.0%)\n",
      "Example 49 prediction: live (58.4%)\n",
      "Example 50 prediction: die (99.8%)\n",
      "Example 51 prediction: die (74.2%)\n",
      "Example 52 prediction: live (99.9%)\n",
      "Example 53 prediction: live (99.6%)\n",
      "Example 54 prediction: die (75.4%)\n",
      "Example 55 prediction: die (99.3%)\n",
      "Example 56 prediction: die (87.7%)\n",
      "Example 57 prediction: die (100.0%)\n",
      "Example 58 prediction: die (99.1%)\n",
      "Example 59 prediction: live (100.0%)\n",
      "Example 60 prediction: die (86.6%)\n",
      "Example 61 prediction: die (73.0%)\n",
      "Example 62 prediction: die (88.7%)\n",
      "Example 63 prediction: live (81.9%)\n",
      "Example 64 prediction: die (100.0%)\n",
      "Example 65 prediction: live (96.4%)\n",
      "Example 66 prediction: live (85.1%)\n",
      "Example 67 prediction: die (92.7%)\n",
      "Example 68 prediction: live (59.4%)\n",
      "Example 69 prediction: live (99.6%)\n",
      "Example 70 prediction: live (78.0%)\n",
      "Example 71 prediction: die (94.6%)\n",
      "Example 72 prediction: die (63.9%)\n",
      "Example 73 prediction: die (79.5%)\n",
      "Example 74 prediction: live (100.0%)\n",
      "Example 75 prediction: live (64.1%)\n",
      "Example 76 prediction: die (81.5%)\n",
      "Example 77 prediction: live (69.4%)\n",
      "Example 78 prediction: die (89.7%)\n",
      "Example 79 prediction: live (78.0%)\n",
      "Example 80 prediction: die (99.3%)\n",
      "Example 81 prediction: die (90.8%)\n",
      "Example 82 prediction: die (69.7%)\n",
      "Example 83 prediction: die (81.9%)\n",
      "Example 84 prediction: die (84.2%)\n",
      "Example 85 prediction: die (99.8%)\n",
      "Example 86 prediction: live (71.3%)\n",
      "Example 87 prediction: live (71.0%)\n",
      "Example 88 prediction: live (73.8%)\n",
      "Example 89 prediction: live (100.0%)\n",
      "Example 90 prediction: live (92.9%)\n",
      "Example 91 prediction: die (82.2%)\n",
      "Example 92 prediction: live (100.0%)\n",
      "Example 93 prediction: die (81.5%)\n",
      "Example 94 prediction: die (53.8%)\n",
      "Example 95 prediction: die (86.3%)\n",
      "Example 96 prediction: die (54.9%)\n",
      "Example 97 prediction: die (82.6%)\n",
      "Example 98 prediction: live (62.9%)\n",
      "Example 99 prediction: die (86.5%)\n",
      "Example 100 prediction: live (99.9%)\n",
      "Example 101 prediction: die (99.5%)\n",
      "Example 102 prediction: die (91.7%)\n",
      "Example 103 prediction: die (78.2%)\n",
      "Example 104 prediction: live (100.0%)\n",
      "Example 105 prediction: die (98.4%)\n",
      "Example 106 prediction: die (94.3%)\n",
      "Example 107 prediction: die (91.7%)\n",
      "Example 108 prediction: die (79.9%)\n",
      "Example 109 prediction: die (100.0%)\n",
      "Example 110 prediction: die (79.7%)\n",
      "Example 111 prediction: live (79.8%)\n",
      "Example 112 prediction: live (100.0%)\n",
      "Example 113 prediction: live (83.7%)\n",
      "Example 114 prediction: live (99.3%)\n",
      "Example 115 prediction: live (99.5%)\n",
      "Example 116 prediction: die (87.4%)\n",
      "Example 117 prediction: die (100.0%)\n",
      "Example 118 prediction: die (76.6%)\n",
      "Example 119 prediction: live (94.4%)\n",
      "Example 120 prediction: live (100.0%)\n",
      "Example 121 prediction: die (91.0%)\n",
      "Example 122 prediction: live (100.0%)\n",
      "Example 123 prediction: die (82.6%)\n",
      "Example 124 prediction: die (91.7%)\n",
      "Example 125 prediction: die (99.7%)\n",
      "Example 126 prediction: die (94.4%)\n",
      "Example 127 prediction: live (100.0%)\n",
      "Example 128 prediction: die (80.5%)\n",
      "Example 129 prediction: die (91.1%)\n",
      "Example 130 prediction: die (86.0%)\n",
      "Example 131 prediction: die (75.1%)\n",
      "Example 132 prediction: die (98.4%)\n",
      "Example 133 prediction: die (89.6%)\n",
      "Example 134 prediction: die (91.2%)\n",
      "Example 135 prediction: die (91.2%)\n",
      "Example 136 prediction: die (85.5%)\n",
      "Example 137 prediction: die (96.4%)\n",
      "Example 138 prediction: live (51.9%)\n",
      "Example 139 prediction: die (93.0%)\n",
      "Example 140 prediction: die (99.2%)\n",
      "Example 141 prediction: live (100.0%)\n",
      "Example 142 prediction: live (93.4%)\n",
      "Example 143 prediction: die (99.6%)\n",
      "Example 144 prediction: die (62.1%)\n",
      "Example 145 prediction: die (98.7%)\n",
      "Example 146 prediction: die (66.9%)\n",
      "Example 147 prediction: die (94.3%)\n",
      "Example 148 prediction: die (64.4%)\n",
      "Example 149 prediction: die (99.3%)\n",
      "Example 150 prediction: live (100.0%)\n",
      "Example 151 prediction: die (85.6%)\n",
      "Example 152 prediction: die (99.0%)\n",
      "Example 153 prediction: live (50.2%)\n",
      "Example 154 prediction: die (100.0%)\n",
      "Example 155 prediction: die (91.4%)\n",
      "Example 156 prediction: live (100.0%)\n",
      "Example 157 prediction: live (51.3%)\n",
      "Example 158 prediction: die (60.7%)\n",
      "Example 159 prediction: live (64.1%)\n",
      "Example 160 prediction: live (79.7%)\n",
      "Example 161 prediction: live (100.0%)\n",
      "Example 162 prediction: live (97.7%)\n",
      "Example 163 prediction: die (84.2%)\n",
      "Example 164 prediction: die (83.9%)\n",
      "Example 165 prediction: live (76.5%)\n",
      "Example 166 prediction: die (80.4%)\n",
      "Example 167 prediction: die (100.0%)\n",
      "Example 168 prediction: live (90.4%)\n",
      "Example 169 prediction: live (58.3%)\n",
      "Example 170 prediction: die (82.8%)\n",
      "Example 171 prediction: die (85.7%)\n",
      "Example 172 prediction: die (99.4%)\n",
      "Example 173 prediction: die (86.4%)\n",
      "Example 174 prediction: die (96.0%)\n",
      "Example 175 prediction: live (100.0%)\n",
      "Example 176 prediction: live (100.0%)\n",
      "Example 177 prediction: die (81.0%)\n",
      "Example 178 prediction: live (100.0%)\n",
      "Example 179 prediction: live (99.0%)\n",
      "Example 180 prediction: die (89.7%)\n",
      "Example 181 prediction: live (89.3%)\n",
      "Example 182 prediction: live (100.0%)\n",
      "Example 183 prediction: die (91.7%)\n",
      "Example 184 prediction: live (100.0%)\n",
      "Example 185 prediction: die (77.0%)\n",
      "Example 186 prediction: live (99.9%)\n",
      "Example 187 prediction: die (98.5%)\n",
      "Example 188 prediction: die (99.5%)\n",
      "Example 189 prediction: die (79.1%)\n",
      "Example 190 prediction: die (92.1%)\n",
      "Example 191 prediction: die (64.7%)\n",
      "Example 192 prediction: live (89.9%)\n",
      "Example 193 prediction: die (95.8%)\n",
      "Example 194 prediction: live (100.0%)\n",
      "Example 195 prediction: die (86.7%)\n",
      "Example 196 prediction: live (100.0%)\n",
      "Example 197 prediction: live (70.2%)\n",
      "Example 198 prediction: die (96.8%)\n",
      "Example 199 prediction: live (72.6%)\n",
      "Example 200 prediction: live (98.0%)\n",
      "Example 201 prediction: die (99.6%)\n",
      "Example 202 prediction: live (94.5%)\n",
      "Example 203 prediction: live (100.0%)\n",
      "Example 204 prediction: die (96.8%)\n",
      "Example 205 prediction: die (75.7%)\n",
      "Example 206 prediction: die (52.3%)\n",
      "Example 207 prediction: die (96.9%)\n",
      "Example 208 prediction: live (100.0%)\n",
      "Example 209 prediction: die (86.2%)\n",
      "Example 210 prediction: die (89.8%)\n",
      "Example 211 prediction: die (84.1%)\n",
      "Example 212 prediction: die (100.0%)\n",
      "Example 213 prediction: live (61.8%)\n",
      "Example 214 prediction: die (97.1%)\n",
      "Example 215 prediction: die (84.9%)\n",
      "Example 216 prediction: live (80.0%)\n",
      "Example 217 prediction: die (96.1%)\n",
      "Example 218 prediction: live (99.7%)\n",
      "Example 219 prediction: die (81.5%)\n",
      "Example 220 prediction: live (97.1%)\n",
      "Example 221 prediction: die (94.5%)\n",
      "Example 222 prediction: live (100.0%)\n",
      "Example 223 prediction: die (94.6%)\n",
      "Example 224 prediction: live (81.2%)\n",
      "Example 225 prediction: live (58.3%)\n",
      "Example 226 prediction: die (93.4%)\n",
      "Example 227 prediction: live (79.7%)\n",
      "Example 228 prediction: die (95.7%)\n",
      "Example 229 prediction: die (76.4%)\n",
      "Example 230 prediction: die (100.0%)\n",
      "Example 231 prediction: live (100.0%)\n",
      "Example 232 prediction: die (77.5%)\n",
      "Example 233 prediction: die (91.6%)\n",
      "Example 234 prediction: die (72.2%)\n",
      "Example 235 prediction: die (93.3%)\n",
      "Example 236 prediction: die (54.2%)\n",
      "Example 237 prediction: live (59.1%)\n",
      "Example 238 prediction: live (98.8%)\n",
      "Example 239 prediction: live (100.0%)\n",
      "Example 240 prediction: live (72.9%)\n",
      "Example 241 prediction: live (95.5%)\n",
      "Example 242 prediction: live (64.6%)\n",
      "Example 243 prediction: die (81.9%)\n",
      "Example 244 prediction: die (99.4%)\n",
      "Example 245 prediction: live (97.9%)\n",
      "Example 246 prediction: live (100.0%)\n",
      "Example 247 prediction: die (96.3%)\n",
      "Example 248 prediction: live (94.4%)\n",
      "Example 249 prediction: live (67.6%)\n",
      "Example 250 prediction: live (100.0%)\n",
      "Example 251 prediction: die (93.3%)\n",
      "Example 252 prediction: die (96.6%)\n",
      "Example 253 prediction: die (90.3%)\n",
      "Example 254 prediction: die (84.8%)\n",
      "Example 255 prediction: die (82.8%)\n",
      "Example 256 prediction: die (91.7%)\n",
      "Example 257 prediction: die (80.5%)\n",
      "Example 258 prediction: live (99.8%)\n",
      "Example 259 prediction: die (94.6%)\n",
      "Example 260 prediction: die (95.5%)\n",
      "Example 261 prediction: die (94.6%)\n",
      "Example 262 prediction: live (95.0%)\n",
      "Example 263 prediction: live (93.9%)\n",
      "Example 264 prediction: die (75.3%)\n",
      "Example 265 prediction: die (81.9%)\n",
      "Example 266 prediction: die (94.6%)\n",
      "Example 267 prediction: die (82.8%)\n",
      "Example 268 prediction: live (51.5%)\n",
      "Example 269 prediction: die (86.5%)\n",
      "Example 270 prediction: die (81.5%)\n",
      "Example 271 prediction: die (91.7%)\n",
      "Example 272 prediction: live (100.0%)\n",
      "Example 273 prediction: live (100.0%)\n",
      "Example 274 prediction: die (86.4%)\n",
      "Example 275 prediction: live (99.9%)\n",
      "Example 276 prediction: die (96.0%)\n",
      "Example 277 prediction: die (95.8%)\n",
      "Example 278 prediction: die (88.9%)\n",
      "Example 279 prediction: die (95.9%)\n",
      "Example 280 prediction: live (53.6%)\n",
      "Example 281 prediction: live (100.0%)\n",
      "Example 282 prediction: live (79.7%)\n",
      "Example 283 prediction: die (96.7%)\n",
      "Example 284 prediction: die (99.5%)\n",
      "Example 285 prediction: die (88.8%)\n",
      "Example 286 prediction: die (83.5%)\n",
      "Example 287 prediction: die (99.8%)\n",
      "Example 288 prediction: die (100.0%)\n",
      "Example 289 prediction: die (81.5%)\n",
      "Example 290 prediction: die (58.3%)\n",
      "Example 291 prediction: live (60.5%)\n",
      "Example 292 prediction: die (86.4%)\n",
      "Example 293 prediction: live (100.0%)\n",
      "Example 294 prediction: die (86.8%)\n",
      "Example 295 prediction: die (78.1%)\n",
      "Example 296 prediction: live (100.0%)\n",
      "Example 297 prediction: die (96.5%)\n",
      "Example 298 prediction: live (70.5%)\n",
      "Example 299 prediction: die (82.8%)\n",
      "Example 300 prediction: die (86.3%)\n",
      "Example 301 prediction: die (72.7%)\n",
      "Example 302 prediction: die (97.0%)\n",
      "Example 303 prediction: die (90.7%)\n",
      "Example 304 prediction: live (79.7%)\n",
      "Example 305 prediction: live (94.1%)\n",
      "Example 306 prediction: die (89.7%)\n",
      "Example 307 prediction: live (100.0%)\n",
      "Example 308 prediction: die (75.6%)\n",
      "Example 309 prediction: die (69.1%)\n",
      "Example 310 prediction: die (88.5%)\n",
      "Example 311 prediction: die (73.4%)\n",
      "Example 312 prediction: die (82.7%)\n",
      "Example 313 prediction: die (58.4%)\n",
      "Example 314 prediction: live (99.3%)\n",
      "Example 315 prediction: live (85.8%)\n",
      "Example 316 prediction: live (86.7%)\n",
      "Example 317 prediction: die (91.1%)\n",
      "Example 318 prediction: die (79.1%)\n",
      "Example 319 prediction: die (100.0%)\n",
      "Example 320 prediction: die (78.2%)\n",
      "Example 321 prediction: die (100.0%)\n",
      "Example 322 prediction: die (100.0%)\n",
      "Example 323 prediction: live (52.4%)\n",
      "Example 324 prediction: live (100.0%)\n",
      "Example 325 prediction: die (93.6%)\n",
      "Example 326 prediction: live (100.0%)\n",
      "Example 327 prediction: die (94.3%)\n",
      "Example 328 prediction: die (95.3%)\n",
      "Example 329 prediction: die (94.4%)\n",
      "Example 330 prediction: live (94.4%)\n",
      "Example 331 prediction: live (60.0%)\n",
      "Example 332 prediction: die (86.4%)\n",
      "Example 333 prediction: live (100.0%)\n",
      "Example 334 prediction: die (79.0%)\n",
      "Example 335 prediction: live (84.5%)\n",
      "Example 336 prediction: die (73.4%)\n",
      "Example 337 prediction: die (96.9%)\n",
      "Example 338 prediction: die (99.9%)\n",
      "Example 339 prediction: die (90.0%)\n",
      "Example 340 prediction: die (91.8%)\n",
      "Example 341 prediction: die (86.5%)\n",
      "Example 342 prediction: die (97.9%)\n",
      "Example 343 prediction: live (100.0%)\n",
      "Example 344 prediction: live (100.0%)\n",
      "Example 345 prediction: die (58.1%)\n",
      "Example 346 prediction: die (96.4%)\n",
      "Example 347 prediction: live (72.2%)\n",
      "Example 348 prediction: die (96.4%)\n",
      "Example 349 prediction: live (97.1%)\n",
      "Example 350 prediction: live (100.0%)\n",
      "Example 351 prediction: die (96.8%)\n",
      "Example 352 prediction: die (100.0%)\n",
      "Example 353 prediction: die (88.3%)\n",
      "Example 354 prediction: die (100.0%)\n",
      "Example 355 prediction: live (63.8%)\n",
      "Example 356 prediction: live (92.1%)\n",
      "Example 357 prediction: die (82.0%)\n",
      "Example 358 prediction: die (91.7%)\n",
      "Example 359 prediction: live (66.0%)\n",
      "Example 360 prediction: die (100.0%)\n",
      "Example 361 prediction: live (100.0%)\n",
      "Example 362 prediction: live (81.3%)\n",
      "Example 363 prediction: die (76.7%)\n",
      "Example 364 prediction: live (100.0%)\n",
      "Example 365 prediction: die (99.5%)\n",
      "Example 366 prediction: die (99.8%)\n",
      "Example 367 prediction: live (76.6%)\n",
      "Example 368 prediction: live (100.0%)\n",
      "Example 369 prediction: die (74.6%)\n",
      "Example 370 prediction: die (96.8%)\n",
      "Example 371 prediction: live (100.0%)\n",
      "Example 372 prediction: die (98.9%)\n",
      "Example 373 prediction: die (81.9%)\n",
      "Example 374 prediction: live (100.0%)\n",
      "Example 375 prediction: live (100.0%)\n",
      "Example 376 prediction: die (66.1%)\n",
      "Example 377 prediction: die (94.5%)\n",
      "Example 378 prediction: live (54.7%)\n",
      "Example 379 prediction: die (100.0%)\n",
      "Example 380 prediction: die (91.7%)\n",
      "Example 381 prediction: die (90.6%)\n",
      "Example 382 prediction: live (86.7%)\n",
      "Example 383 prediction: die (62.1%)\n",
      "Example 384 prediction: die (73.9%)\n",
      "Example 385 prediction: live (99.9%)\n",
      "Example 386 prediction: die (91.3%)\n",
      "Example 387 prediction: die (89.2%)\n",
      "Example 388 prediction: die (94.3%)\n",
      "Example 389 prediction: die (99.3%)\n",
      "Example 390 prediction: die (100.0%)\n",
      "Example 391 prediction: live (100.0%)\n",
      "Example 392 prediction: die (99.5%)\n",
      "Example 393 prediction: die (85.8%)\n",
      "Example 394 prediction: die (92.8%)\n",
      "Example 395 prediction: live (100.0%)\n",
      "Example 396 prediction: die (90.6%)\n",
      "Example 397 prediction: live (100.0%)\n",
      "Example 398 prediction: die (94.4%)\n",
      "Example 399 prediction: die (92.6%)\n",
      "Example 400 prediction: live (100.0%)\n",
      "Example 401 prediction: die (95.0%)\n",
      "Example 402 prediction: live (100.0%)\n",
      "Example 403 prediction: die (100.0%)\n",
      "Example 404 prediction: live (100.0%)\n",
      "Example 405 prediction: die (96.0%)\n",
      "Example 406 prediction: die (90.5%)\n",
      "Example 407 prediction: live (60.1%)\n",
      "Example 408 prediction: live (79.7%)\n",
      "Example 409 prediction: live (100.0%)\n",
      "Example 410 prediction: live (79.7%)\n",
      "Example 411 prediction: live (100.0%)\n",
      "Example 412 prediction: die (61.9%)\n",
      "Example 413 prediction: die (81.5%)\n",
      "Example 414 prediction: live (100.0%)\n",
      "Example 415 prediction: die (89.9%)\n",
      "Example 416 prediction: die (81.5%)\n",
      "Example 417 prediction: live (100.0%)\n",
      "[0, 0, 0, 0, 1, 0, 1, 0, 1, 0, 0, 0, 1, 0, 1, 1, 0, 0, 0, 1, 0, 0, 1, 0, 1, 0, 1, 0, 0, 0, 0, 0, 1, 0, 0, 1, 1, 1, 0, 1, 0, 0, 0, 1, 1, 0, 1, 0, 1, 1, 0, 0, 1, 1, 0, 0, 0, 0, 0, 1, 0, 0, 0, 1, 0, 1, 1, 0, 1, 1, 1, 0, 0, 0, 1, 1, 0, 1, 0, 1, 0, 0, 0, 0, 0, 0, 1, 1, 1, 1, 1, 0, 1, 0, 0, 0, 0, 0, 1, 0, 1, 0, 0, 0, 1, 0, 0, 0, 0, 0, 0, 1, 1, 1, 1, 1, 0, 0, 0, 1, 1, 0, 1, 0, 0, 0, 0, 1, 0, 0, 0, 0, 0, 0, 0, 0, 0, 0, 1, 0, 0, 1, 1, 0, 0, 0, 0, 0, 0, 0, 1, 0, 0, 1, 0, 0, 1, 1, 0, 1, 1, 1, 1, 0, 0, 1, 0, 0, 1, 1, 0, 0, 0, 0, 0, 1, 1, 0, 1, 1, 0, 1, 1, 0, 1, 0, 1, 0, 0, 0, 0, 0, 1, 0, 1, 0, 1, 1, 0, 1, 1, 0, 1, 1, 0, 0, 0, 0, 1, 0, 0, 0, 0, 1, 0, 0, 1, 0, 1, 0, 1, 0, 1, 0, 1, 1, 0, 1, 0, 0, 0, 1, 0, 0, 0, 0, 0, 1, 1, 1, 1, 1, 1, 0, 0, 1, 1, 0, 1, 1, 1, 0, 0, 0, 0, 0, 0, 0, 1, 0, 0, 0, 1, 1, 0, 0, 0, 0, 1, 0, 0, 0, 1, 1, 0, 1, 0, 0, 0, 0, 1, 1, 1, 0, 0, 0, 0, 0, 0, 0, 0, 1, 0, 1, 0, 0, 1, 0, 1, 0, 0, 0, 0, 0, 1, 1, 0, 1, 0, 0, 0, 0, 0, 0, 1, 1, 1, 0, 0, 0, 0, 0, 0, 1, 1, 0, 1, 0, 0, 0, 1, 1, 0, 1, 0, 1, 0, 0, 0, 0, 0, 0, 0, 1, 1, 0, 0, 1, 0, 1, 1, 0, 0, 0, 0, 1, 1, 0, 0, 1, 0, 1, 1, 0, 1, 0, 0, 1, 1, 0, 0, 1, 0, 0, 1, 1, 0, 0, 1, 0, 0, 0, 1, 0, 0, 1, 0, 0, 0, 0, 0, 1, 0, 0, 0, 1, 0, 1, 0, 0, 1, 0, 1, 0, 1, 0, 0, 1, 1, 1, 1, 1, 0, 0, 1, 0, 0, 1]\n"
     ]
    }
   ],
   "source": [
    "# 先等上一块运行完毕再运行这一块\n",
    "# 建立测试数据集\n",
    "\n",
    "test_dataset = pd.read_csv(\"./data/titanic/clean_testset.csv\")\n",
    "\n",
    "predict_dataset = tf.convert_to_tensor(np.array(test_dataset[feature_name]))\n",
    "\n",
    "predictions = model(predict_dataset)\n",
    "\n",
    "test_label = []\n",
    "\n",
    "for i, logits in enumerate(predictions):\n",
    "    class_idx = tf.argmax(logits).numpy()\n",
    "    p = tf.nn.softmax(logits)[class_idx]\n",
    "    name = class_name[class_idx]\n",
    "    print(\"Example {} prediction: {} ({:4.1f}%)\".format(i, name, 100*p))\n",
    "    test_label.append(class_idx)\n",
    "\n",
    "\n",
    "# 建立一个保存预测结果的df\n",
    "# test_dataset['PassengerId'] = full_set['PassengerId'][full_set['Survived'].isnull()]\n",
    "pre_saver = pd.DataFrame()\n",
    "pre_saver['PassengerId']=full_set['PassengerId'][full_set['Survived'].isnull()]\n",
    "pre_saver['Survived'] = test_label\n",
    "# pre_saver = pd.DataFrame({'PassengerId':test_dataset['PassengerId'], 'Survived':test_label})\n",
    "pre_saver.to_csv(\"./data/titanic/predictions.csv\", index=False)\n",
    "print(test_label)"
   ]
  },
  {
   "cell_type": "markdown",
   "metadata": {},
   "source": [
    "## 结果分析"
   ]
  },
  {
   "cell_type": "markdown",
   "metadata": {},
   "source": [
    "将`predictions.csv`文件交到kaggle网站上进行评测，然后对神经网络进行多次调参，最终的预测结果如下"
   ]
  },
  {
   "cell_type": "markdown",
   "metadata": {},
   "source": [
    "从上图看可以看出，模型在训练集上的预测成功率能达到接近90%，但是在测试集上的预测成功率不到80%"
   ]
  },
  {
   "cell_type": "markdown",
   "metadata": {},
   "source": [
    "导致上述结果可能是以下几个原因：\n",
    "* 神经元数量可能过多或者过少，导致模型过拟合或者欠拟合\n",
    "* 训练的步长可能不适合，导致模型只是收敛到局部最优而不是全局最优\n",
    "* 神经网络的层数可能不太适合，导致模型并不能很好地学到数据的特征\n",
    "* 特征工程做得可能不是特别完美"
   ]
  },
  {
   "cell_type": "markdown",
   "metadata": {},
   "source": [
    "想要获得更好的模型表现，可以通过调参来完成，但是这种做法并不能改变一个模型的本质。在kaggle网站上有很多预测成功率达到100%的submition，但是这种submition往往没啥意义"
   ]
  },
  {
   "cell_type": "code",
   "execution_count": null,
   "metadata": {},
   "outputs": [],
   "source": []
  }
 ],
 "metadata": {
  "kernelspec": {
   "display_name": "Python 3",
   "language": "python",
   "name": "python3"
  },
  "language_info": {
   "codemirror_mode": {
    "name": "ipython",
    "version": 3
   },
   "file_extension": ".py",
   "mimetype": "text/x-python",
   "name": "python",
   "nbconvert_exporter": "python",
   "pygments_lexer": "ipython3",
   "version": "3.7.6"
  }
 },
 "nbformat": 4,
 "nbformat_minor": 4
}
